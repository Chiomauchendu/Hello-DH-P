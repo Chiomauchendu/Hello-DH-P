{
  "nbformat": 4,
  "nbformat_minor": 0,
  "metadata": {
    "colab": {
      "provenance": []
    },
    "kernelspec": {
      "name": "python3",
      "display_name": "Python 3"
    },
    "language_info": {
      "name": "python"
    }
  },
  "cells": [
    {
      "cell_type": "code",
      "execution_count": 3,
      "metadata": {
        "colab": {
          "base_uri": "https://localhost:8080/",
          "height": 295
        },
        "id": "PzCXUL3WvgSv",
        "outputId": "f469979a-1425-4002-820d-20b1bc933146"
      },
      "outputs": [
        {
          "output_type": "execute_result",
          "data": {
            "text/plain": [
              "   ENERGY_EFFICIENCY  ENERGY_CONSUMPTION  CO2_EMISSIONS  HOT_WATER_COST  \\\n",
              "0                 75                 147            3.5           101.0   \n",
              "1                 70                 254            3.7           226.0   \n",
              "2                 66                 228            4.1            90.0   \n",
              "3                 57                 545            5.3           140.0   \n",
              "4                 68                 231            2.4            95.0   \n",
              "\n",
              "  PROPERTY_TYPE  ENVIRONMENT_IMPACT  LIGHTING_COST  \\\n",
              "0         House                  72          106.0   \n",
              "1         House                  57           69.0   \n",
              "2         House                  60           71.0   \n",
              "3    Maisonette                  36           47.0   \n",
              "4      Bungalow                  68           55.0   \n",
              "\n",
              "              MAINHEAT_DESCRIPTION  HEATING_COST  \n",
              "0  Boiler and radiators, mains gas         571.0  \n",
              "1  Boiler and radiators, mains gas         740.0  \n",
              "2  Boiler and radiators, mains gas         720.0  \n",
              "3         Electric storage heaters         664.0  \n",
              "4  Boiler and radiators, mains gas         460.0  "
            ],
            "text/html": [
              "\n",
              "  <div id=\"df-8a905575-f3cc-4063-be77-c0eed30a5cc6\" class=\"colab-df-container\">\n",
              "    <div>\n",
              "<style scoped>\n",
              "    .dataframe tbody tr th:only-of-type {\n",
              "        vertical-align: middle;\n",
              "    }\n",
              "\n",
              "    .dataframe tbody tr th {\n",
              "        vertical-align: top;\n",
              "    }\n",
              "\n",
              "    .dataframe thead th {\n",
              "        text-align: right;\n",
              "    }\n",
              "</style>\n",
              "<table border=\"1\" class=\"dataframe\">\n",
              "  <thead>\n",
              "    <tr style=\"text-align: right;\">\n",
              "      <th></th>\n",
              "      <th>ENERGY_EFFICIENCY</th>\n",
              "      <th>ENERGY_CONSUMPTION</th>\n",
              "      <th>CO2_EMISSIONS</th>\n",
              "      <th>HOT_WATER_COST</th>\n",
              "      <th>PROPERTY_TYPE</th>\n",
              "      <th>ENVIRONMENT_IMPACT</th>\n",
              "      <th>LIGHTING_COST</th>\n",
              "      <th>MAINHEAT_DESCRIPTION</th>\n",
              "      <th>HEATING_COST</th>\n",
              "    </tr>\n",
              "  </thead>\n",
              "  <tbody>\n",
              "    <tr>\n",
              "      <th>0</th>\n",
              "      <td>75</td>\n",
              "      <td>147</td>\n",
              "      <td>3.5</td>\n",
              "      <td>101.0</td>\n",
              "      <td>House</td>\n",
              "      <td>72</td>\n",
              "      <td>106.0</td>\n",
              "      <td>Boiler and radiators, mains gas</td>\n",
              "      <td>571.0</td>\n",
              "    </tr>\n",
              "    <tr>\n",
              "      <th>1</th>\n",
              "      <td>70</td>\n",
              "      <td>254</td>\n",
              "      <td>3.7</td>\n",
              "      <td>226.0</td>\n",
              "      <td>House</td>\n",
              "      <td>57</td>\n",
              "      <td>69.0</td>\n",
              "      <td>Boiler and radiators, mains gas</td>\n",
              "      <td>740.0</td>\n",
              "    </tr>\n",
              "    <tr>\n",
              "      <th>2</th>\n",
              "      <td>66</td>\n",
              "      <td>228</td>\n",
              "      <td>4.1</td>\n",
              "      <td>90.0</td>\n",
              "      <td>House</td>\n",
              "      <td>60</td>\n",
              "      <td>71.0</td>\n",
              "      <td>Boiler and radiators, mains gas</td>\n",
              "      <td>720.0</td>\n",
              "    </tr>\n",
              "    <tr>\n",
              "      <th>3</th>\n",
              "      <td>57</td>\n",
              "      <td>545</td>\n",
              "      <td>5.3</td>\n",
              "      <td>140.0</td>\n",
              "      <td>Maisonette</td>\n",
              "      <td>36</td>\n",
              "      <td>47.0</td>\n",
              "      <td>Electric storage heaters</td>\n",
              "      <td>664.0</td>\n",
              "    </tr>\n",
              "    <tr>\n",
              "      <th>4</th>\n",
              "      <td>68</td>\n",
              "      <td>231</td>\n",
              "      <td>2.4</td>\n",
              "      <td>95.0</td>\n",
              "      <td>Bungalow</td>\n",
              "      <td>68</td>\n",
              "      <td>55.0</td>\n",
              "      <td>Boiler and radiators, mains gas</td>\n",
              "      <td>460.0</td>\n",
              "    </tr>\n",
              "  </tbody>\n",
              "</table>\n",
              "</div>\n",
              "    <div class=\"colab-df-buttons\">\n",
              "\n",
              "  <div class=\"colab-df-container\">\n",
              "    <button class=\"colab-df-convert\" onclick=\"convertToInteractive('df-8a905575-f3cc-4063-be77-c0eed30a5cc6')\"\n",
              "            title=\"Convert this dataframe to an interactive table.\"\n",
              "            style=\"display:none;\">\n",
              "\n",
              "  <svg xmlns=\"http://www.w3.org/2000/svg\" height=\"24px\" viewBox=\"0 -960 960 960\">\n",
              "    <path d=\"M120-120v-720h720v720H120Zm60-500h600v-160H180v160Zm220 220h160v-160H400v160Zm0 220h160v-160H400v160ZM180-400h160v-160H180v160Zm440 0h160v-160H620v160ZM180-180h160v-160H180v160Zm440 0h160v-160H620v160Z\"/>\n",
              "  </svg>\n",
              "    </button>\n",
              "\n",
              "  <style>\n",
              "    .colab-df-container {\n",
              "      display:flex;\n",
              "      gap: 12px;\n",
              "    }\n",
              "\n",
              "    .colab-df-convert {\n",
              "      background-color: #E8F0FE;\n",
              "      border: none;\n",
              "      border-radius: 50%;\n",
              "      cursor: pointer;\n",
              "      display: none;\n",
              "      fill: #1967D2;\n",
              "      height: 32px;\n",
              "      padding: 0 0 0 0;\n",
              "      width: 32px;\n",
              "    }\n",
              "\n",
              "    .colab-df-convert:hover {\n",
              "      background-color: #E2EBFA;\n",
              "      box-shadow: 0px 1px 2px rgba(60, 64, 67, 0.3), 0px 1px 3px 1px rgba(60, 64, 67, 0.15);\n",
              "      fill: #174EA6;\n",
              "    }\n",
              "\n",
              "    .colab-df-buttons div {\n",
              "      margin-bottom: 4px;\n",
              "    }\n",
              "\n",
              "    [theme=dark] .colab-df-convert {\n",
              "      background-color: #3B4455;\n",
              "      fill: #D2E3FC;\n",
              "    }\n",
              "\n",
              "    [theme=dark] .colab-df-convert:hover {\n",
              "      background-color: #434B5C;\n",
              "      box-shadow: 0px 1px 3px 1px rgba(0, 0, 0, 0.15);\n",
              "      filter: drop-shadow(0px 1px 2px rgba(0, 0, 0, 0.3));\n",
              "      fill: #FFFFFF;\n",
              "    }\n",
              "  </style>\n",
              "\n",
              "    <script>\n",
              "      const buttonEl =\n",
              "        document.querySelector('#df-8a905575-f3cc-4063-be77-c0eed30a5cc6 button.colab-df-convert');\n",
              "      buttonEl.style.display =\n",
              "        google.colab.kernel.accessAllowed ? 'block' : 'none';\n",
              "\n",
              "      async function convertToInteractive(key) {\n",
              "        const element = document.querySelector('#df-8a905575-f3cc-4063-be77-c0eed30a5cc6');\n",
              "        const dataTable =\n",
              "          await google.colab.kernel.invokeFunction('convertToInteractive',\n",
              "                                                    [key], {});\n",
              "        if (!dataTable) return;\n",
              "\n",
              "        const docLinkHtml = 'Like what you see? Visit the ' +\n",
              "          '<a target=\"_blank\" href=https://colab.research.google.com/notebooks/data_table.ipynb>data table notebook</a>'\n",
              "          + ' to learn more about interactive tables.';\n",
              "        element.innerHTML = '';\n",
              "        dataTable['output_type'] = 'display_data';\n",
              "        await google.colab.output.renderOutput(dataTable, element);\n",
              "        const docLink = document.createElement('div');\n",
              "        docLink.innerHTML = docLinkHtml;\n",
              "        element.appendChild(docLink);\n",
              "      }\n",
              "    </script>\n",
              "  </div>\n",
              "\n",
              "\n",
              "<div id=\"df-36b3495a-cdc0-4bd8-992a-908a54b95bd5\">\n",
              "  <button class=\"colab-df-quickchart\" onclick=\"quickchart('df-36b3495a-cdc0-4bd8-992a-908a54b95bd5')\"\n",
              "            title=\"Suggest charts.\"\n",
              "            style=\"display:none;\">\n",
              "\n",
              "<svg xmlns=\"http://www.w3.org/2000/svg\" height=\"24px\"viewBox=\"0 0 24 24\"\n",
              "     width=\"24px\">\n",
              "    <g>\n",
              "        <path d=\"M19 3H5c-1.1 0-2 .9-2 2v14c0 1.1.9 2 2 2h14c1.1 0 2-.9 2-2V5c0-1.1-.9-2-2-2zM9 17H7v-7h2v7zm4 0h-2V7h2v10zm4 0h-2v-4h2v4z\"/>\n",
              "    </g>\n",
              "</svg>\n",
              "  </button>\n",
              "\n",
              "<style>\n",
              "  .colab-df-quickchart {\n",
              "    background-color: #E8F0FE;\n",
              "    border: none;\n",
              "    border-radius: 50%;\n",
              "    cursor: pointer;\n",
              "    display: none;\n",
              "    fill: #1967D2;\n",
              "    height: 32px;\n",
              "    padding: 0 0 0 0;\n",
              "    width: 32px;\n",
              "  }\n",
              "\n",
              "  .colab-df-quickchart:hover {\n",
              "    background-color: #E2EBFA;\n",
              "    box-shadow: 0px 1px 2px rgba(60, 64, 67, 0.3), 0px 1px 3px 1px rgba(60, 64, 67, 0.15);\n",
              "    fill: #174EA6;\n",
              "  }\n",
              "\n",
              "  [theme=dark] .colab-df-quickchart {\n",
              "    background-color: #3B4455;\n",
              "    fill: #D2E3FC;\n",
              "  }\n",
              "\n",
              "  [theme=dark] .colab-df-quickchart:hover {\n",
              "    background-color: #434B5C;\n",
              "    box-shadow: 0px 1px 3px 1px rgba(0, 0, 0, 0.15);\n",
              "    filter: drop-shadow(0px 1px 2px rgba(0, 0, 0, 0.3));\n",
              "    fill: #FFFFFF;\n",
              "  }\n",
              "</style>\n",
              "\n",
              "  <script>\n",
              "    async function quickchart(key) {\n",
              "      const charts = await google.colab.kernel.invokeFunction(\n",
              "          'suggestCharts', [key], {});\n",
              "    }\n",
              "    (() => {\n",
              "      let quickchartButtonEl =\n",
              "        document.querySelector('#df-36b3495a-cdc0-4bd8-992a-908a54b95bd5 button');\n",
              "      quickchartButtonEl.style.display =\n",
              "        google.colab.kernel.accessAllowed ? 'block' : 'none';\n",
              "    })();\n",
              "  </script>\n",
              "</div>\n",
              "    </div>\n",
              "  </div>\n"
            ]
          },
          "metadata": {},
          "execution_count": 3
        }
      ],
      "source": [
        "import pandas as pd\n",
        "import numpy as np\n",
        "from sklearn import linear_model\n",
        "import matplotlib.pyplot as plt\n",
        "df = pd.read_csv(\"/content/narrowfile (1).csv\")\n",
        "df.head()"
      ]
    },
    {
      "cell_type": "code",
      "source": [
        "import tensorflow as tf"
      ],
      "metadata": {
        "id": "dFvP630R1FL2"
      },
      "execution_count": 4,
      "outputs": []
    },
    {
      "cell_type": "code",
      "source": [
        "df.info()"
      ],
      "metadata": {
        "colab": {
          "base_uri": "https://localhost:8080/"
        },
        "id": "IBxzbplIv-Te",
        "outputId": "ade16635-cb05-4ed6-d1fd-5a915f84c760"
      },
      "execution_count": 5,
      "outputs": [
        {
          "output_type": "stream",
          "name": "stdout",
          "text": [
            "<class 'pandas.core.frame.DataFrame'>\n",
            "RangeIndex: 181682 entries, 0 to 181681\n",
            "Data columns (total 9 columns):\n",
            " #   Column                Non-Null Count   Dtype  \n",
            "---  ------                --------------   -----  \n",
            " 0   ENERGY_EFFICIENCY     181682 non-null  int64  \n",
            " 1   ENERGY_CONSUMPTION    181682 non-null  int64  \n",
            " 2   CO2_EMISSIONS         181682 non-null  float64\n",
            " 3   HOT_WATER_COST        181681 non-null  float64\n",
            " 4   PROPERTY_TYPE         181682 non-null  object \n",
            " 5   ENVIRONMENT_IMPACT    181682 non-null  int64  \n",
            " 6   LIGHTING_COST         181681 non-null  float64\n",
            " 7   MAINHEAT_DESCRIPTION  181682 non-null  object \n",
            " 8   HEATING_COST          181681 non-null  float64\n",
            "dtypes: float64(4), int64(3), object(2)\n",
            "memory usage: 12.5+ MB\n"
          ]
        }
      ]
    },
    {
      "cell_type": "markdown",
      "source": [
        "**DATA PREPROCESSING AND CLEANING**"
      ],
      "metadata": {
        "id": "X23UvxuL0pk1"
      }
    },
    {
      "cell_type": "code",
      "source": [
        "# Check for missing values in columns\n",
        "missing_values = df.isnull().sum()\n",
        "print(\"Missing Values:\")\n",
        "print(missing_values)"
      ],
      "metadata": {
        "colab": {
          "base_uri": "https://localhost:8080/"
        },
        "id": "oQ65QBkRw9jx",
        "outputId": "31c02e46-915d-47bf-f741-5aa0a1efae25"
      },
      "execution_count": 6,
      "outputs": [
        {
          "output_type": "stream",
          "name": "stdout",
          "text": [
            "Missing Values:\n",
            "ENERGY_EFFICIENCY       0\n",
            "ENERGY_CONSUMPTION      0\n",
            "CO2_EMISSIONS           0\n",
            "HOT_WATER_COST          1\n",
            "PROPERTY_TYPE           0\n",
            "ENVIRONMENT_IMPACT      0\n",
            "LIGHTING_COST           1\n",
            "MAINHEAT_DESCRIPTION    0\n",
            "HEATING_COST            1\n",
            "dtype: int64\n"
          ]
        }
      ]
    },
    {
      "cell_type": "code",
      "source": [
        "# Convert categorical columns to categorical data type\n",
        "categorical_columns = ['MAINHEAT_DESCRIPTION', 'PROPERTY_TYPE']\n",
        "for col in categorical_columns:\n",
        "    df[col] = df[col].astype('category')"
      ],
      "metadata": {
        "id": "3qHK7vugwSRR"
      },
      "execution_count": 7,
      "outputs": []
    },
    {
      "cell_type": "code",
      "source": [
        "df.info()"
      ],
      "metadata": {
        "colab": {
          "base_uri": "https://localhost:8080/"
        },
        "id": "iNIgjOqzw9Hm",
        "outputId": "2fc3be7d-4ee6-4a97-fdcf-1acbd9b47195"
      },
      "execution_count": 8,
      "outputs": [
        {
          "output_type": "stream",
          "name": "stdout",
          "text": [
            "<class 'pandas.core.frame.DataFrame'>\n",
            "RangeIndex: 181682 entries, 0 to 181681\n",
            "Data columns (total 9 columns):\n",
            " #   Column                Non-Null Count   Dtype   \n",
            "---  ------                --------------   -----   \n",
            " 0   ENERGY_EFFICIENCY     181682 non-null  int64   \n",
            " 1   ENERGY_CONSUMPTION    181682 non-null  int64   \n",
            " 2   CO2_EMISSIONS         181682 non-null  float64 \n",
            " 3   HOT_WATER_COST        181681 non-null  float64 \n",
            " 4   PROPERTY_TYPE         181682 non-null  category\n",
            " 5   ENVIRONMENT_IMPACT    181682 non-null  int64   \n",
            " 6   LIGHTING_COST         181681 non-null  float64 \n",
            " 7   MAINHEAT_DESCRIPTION  181682 non-null  category\n",
            " 8   HEATING_COST          181681 non-null  float64 \n",
            "dtypes: category(2), float64(4), int64(3)\n",
            "memory usage: 10.1 MB\n"
          ]
        }
      ]
    },
    {
      "cell_type": "code",
      "source": [
        "# replace missing values with Mean from sklearn inputer\n",
        "from sklearn.impute import SimpleImputer\n",
        "numerical_columns = ['ENERGY_EFFICIENCY', 'ENERGY_CONSUMPTION', 'CO2_EMISSIONS',\n",
        "                     'HOT_WATER_COST', 'ENVIRONMENT_IMPACT', 'LIGHTING_COST', 'HEATING_COST']\n",
        "# Impute missing values with the mean\n",
        "imputer = SimpleImputer(strategy='mean')\n",
        "df_imputed = df.copy()\n",
        "df_imputed[numerical_columns] = imputer.fit_transform(df_imputed[numerical_columns])"
      ],
      "metadata": {
        "id": "egW8V32oxDPW"
      },
      "execution_count": 9,
      "outputs": []
    },
    {
      "cell_type": "code",
      "source": [
        "# Check for missing values in columns\n",
        "missing_values = df_imputed.isnull().sum()\n",
        "print(\"Missing Values:\")\n",
        "print(missing_values)"
      ],
      "metadata": {
        "colab": {
          "base_uri": "https://localhost:8080/"
        },
        "id": "uzMUJqqwyHpU",
        "outputId": "143c55cd-cdb8-462a-c824-5ee1266f0a53"
      },
      "execution_count": 10,
      "outputs": [
        {
          "output_type": "stream",
          "name": "stdout",
          "text": [
            "Missing Values:\n",
            "ENERGY_EFFICIENCY       0\n",
            "ENERGY_CONSUMPTION      0\n",
            "CO2_EMISSIONS           0\n",
            "HOT_WATER_COST          0\n",
            "PROPERTY_TYPE           0\n",
            "ENVIRONMENT_IMPACT      0\n",
            "LIGHTING_COST           0\n",
            "MAINHEAT_DESCRIPTION    0\n",
            "HEATING_COST            0\n",
            "dtype: int64\n"
          ]
        }
      ]
    },
    {
      "cell_type": "code",
      "source": [
        "#describe the dataset to check for outliers\n",
        "df_imputed.describe()"
      ],
      "metadata": {
        "colab": {
          "base_uri": "https://localhost:8080/",
          "height": 300
        },
        "id": "iXoVBqPWyZy7",
        "outputId": "45b4403e-f43b-4187-dd1e-db833fc0c00d"
      },
      "execution_count": 11,
      "outputs": [
        {
          "output_type": "execute_result",
          "data": {
            "text/plain": [
              "       ENERGY_EFFICIENCY  ENERGY_CONSUMPTION  CO2_EMISSIONS  HOT_WATER_COST  \\\n",
              "count      181682.000000       181682.000000  181682.000000   181682.000000   \n",
              "mean           63.614855          282.125235       3.661169      143.181296   \n",
              "std            13.355965          140.982874       2.580631       77.071912   \n",
              "min             1.000000         -128.000000      -2.700000        0.000000   \n",
              "25%            56.000000          200.000000       2.200000       95.000000   \n",
              "50%            66.000000          260.000000       3.200000      118.000000   \n",
              "75%            73.000000          339.000000       4.600000      165.000000   \n",
              "max           120.000000        17099.000000     271.000000     1757.000000   \n",
              "\n",
              "       ENVIRONMENT_IMPACT  LIGHTING_COST   HEATING_COST  \n",
              "count       181682.000000  181682.000000  181682.000000  \n",
              "mean            61.386477      66.931903     610.240807  \n",
              "std             15.869106      31.004378     445.976647  \n",
              "min              1.000000       0.000000       0.000000  \n",
              "25%             51.000000      47.000000     354.000000  \n",
              "50%             62.000000      62.000000     524.500000  \n",
              "75%             72.000000      81.000000     766.000000  \n",
              "max            126.000000    2322.000000   41862.000000  "
            ],
            "text/html": [
              "\n",
              "  <div id=\"df-30481309-010c-4d6f-b1a5-f1af64a07d9a\" class=\"colab-df-container\">\n",
              "    <div>\n",
              "<style scoped>\n",
              "    .dataframe tbody tr th:only-of-type {\n",
              "        vertical-align: middle;\n",
              "    }\n",
              "\n",
              "    .dataframe tbody tr th {\n",
              "        vertical-align: top;\n",
              "    }\n",
              "\n",
              "    .dataframe thead th {\n",
              "        text-align: right;\n",
              "    }\n",
              "</style>\n",
              "<table border=\"1\" class=\"dataframe\">\n",
              "  <thead>\n",
              "    <tr style=\"text-align: right;\">\n",
              "      <th></th>\n",
              "      <th>ENERGY_EFFICIENCY</th>\n",
              "      <th>ENERGY_CONSUMPTION</th>\n",
              "      <th>CO2_EMISSIONS</th>\n",
              "      <th>HOT_WATER_COST</th>\n",
              "      <th>ENVIRONMENT_IMPACT</th>\n",
              "      <th>LIGHTING_COST</th>\n",
              "      <th>HEATING_COST</th>\n",
              "    </tr>\n",
              "  </thead>\n",
              "  <tbody>\n",
              "    <tr>\n",
              "      <th>count</th>\n",
              "      <td>181682.000000</td>\n",
              "      <td>181682.000000</td>\n",
              "      <td>181682.000000</td>\n",
              "      <td>181682.000000</td>\n",
              "      <td>181682.000000</td>\n",
              "      <td>181682.000000</td>\n",
              "      <td>181682.000000</td>\n",
              "    </tr>\n",
              "    <tr>\n",
              "      <th>mean</th>\n",
              "      <td>63.614855</td>\n",
              "      <td>282.125235</td>\n",
              "      <td>3.661169</td>\n",
              "      <td>143.181296</td>\n",
              "      <td>61.386477</td>\n",
              "      <td>66.931903</td>\n",
              "      <td>610.240807</td>\n",
              "    </tr>\n",
              "    <tr>\n",
              "      <th>std</th>\n",
              "      <td>13.355965</td>\n",
              "      <td>140.982874</td>\n",
              "      <td>2.580631</td>\n",
              "      <td>77.071912</td>\n",
              "      <td>15.869106</td>\n",
              "      <td>31.004378</td>\n",
              "      <td>445.976647</td>\n",
              "    </tr>\n",
              "    <tr>\n",
              "      <th>min</th>\n",
              "      <td>1.000000</td>\n",
              "      <td>-128.000000</td>\n",
              "      <td>-2.700000</td>\n",
              "      <td>0.000000</td>\n",
              "      <td>1.000000</td>\n",
              "      <td>0.000000</td>\n",
              "      <td>0.000000</td>\n",
              "    </tr>\n",
              "    <tr>\n",
              "      <th>25%</th>\n",
              "      <td>56.000000</td>\n",
              "      <td>200.000000</td>\n",
              "      <td>2.200000</td>\n",
              "      <td>95.000000</td>\n",
              "      <td>51.000000</td>\n",
              "      <td>47.000000</td>\n",
              "      <td>354.000000</td>\n",
              "    </tr>\n",
              "    <tr>\n",
              "      <th>50%</th>\n",
              "      <td>66.000000</td>\n",
              "      <td>260.000000</td>\n",
              "      <td>3.200000</td>\n",
              "      <td>118.000000</td>\n",
              "      <td>62.000000</td>\n",
              "      <td>62.000000</td>\n",
              "      <td>524.500000</td>\n",
              "    </tr>\n",
              "    <tr>\n",
              "      <th>75%</th>\n",
              "      <td>73.000000</td>\n",
              "      <td>339.000000</td>\n",
              "      <td>4.600000</td>\n",
              "      <td>165.000000</td>\n",
              "      <td>72.000000</td>\n",
              "      <td>81.000000</td>\n",
              "      <td>766.000000</td>\n",
              "    </tr>\n",
              "    <tr>\n",
              "      <th>max</th>\n",
              "      <td>120.000000</td>\n",
              "      <td>17099.000000</td>\n",
              "      <td>271.000000</td>\n",
              "      <td>1757.000000</td>\n",
              "      <td>126.000000</td>\n",
              "      <td>2322.000000</td>\n",
              "      <td>41862.000000</td>\n",
              "    </tr>\n",
              "  </tbody>\n",
              "</table>\n",
              "</div>\n",
              "    <div class=\"colab-df-buttons\">\n",
              "\n",
              "  <div class=\"colab-df-container\">\n",
              "    <button class=\"colab-df-convert\" onclick=\"convertToInteractive('df-30481309-010c-4d6f-b1a5-f1af64a07d9a')\"\n",
              "            title=\"Convert this dataframe to an interactive table.\"\n",
              "            style=\"display:none;\">\n",
              "\n",
              "  <svg xmlns=\"http://www.w3.org/2000/svg\" height=\"24px\" viewBox=\"0 -960 960 960\">\n",
              "    <path d=\"M120-120v-720h720v720H120Zm60-500h600v-160H180v160Zm220 220h160v-160H400v160Zm0 220h160v-160H400v160ZM180-400h160v-160H180v160Zm440 0h160v-160H620v160ZM180-180h160v-160H180v160Zm440 0h160v-160H620v160Z\"/>\n",
              "  </svg>\n",
              "    </button>\n",
              "\n",
              "  <style>\n",
              "    .colab-df-container {\n",
              "      display:flex;\n",
              "      gap: 12px;\n",
              "    }\n",
              "\n",
              "    .colab-df-convert {\n",
              "      background-color: #E8F0FE;\n",
              "      border: none;\n",
              "      border-radius: 50%;\n",
              "      cursor: pointer;\n",
              "      display: none;\n",
              "      fill: #1967D2;\n",
              "      height: 32px;\n",
              "      padding: 0 0 0 0;\n",
              "      width: 32px;\n",
              "    }\n",
              "\n",
              "    .colab-df-convert:hover {\n",
              "      background-color: #E2EBFA;\n",
              "      box-shadow: 0px 1px 2px rgba(60, 64, 67, 0.3), 0px 1px 3px 1px rgba(60, 64, 67, 0.15);\n",
              "      fill: #174EA6;\n",
              "    }\n",
              "\n",
              "    .colab-df-buttons div {\n",
              "      margin-bottom: 4px;\n",
              "    }\n",
              "\n",
              "    [theme=dark] .colab-df-convert {\n",
              "      background-color: #3B4455;\n",
              "      fill: #D2E3FC;\n",
              "    }\n",
              "\n",
              "    [theme=dark] .colab-df-convert:hover {\n",
              "      background-color: #434B5C;\n",
              "      box-shadow: 0px 1px 3px 1px rgba(0, 0, 0, 0.15);\n",
              "      filter: drop-shadow(0px 1px 2px rgba(0, 0, 0, 0.3));\n",
              "      fill: #FFFFFF;\n",
              "    }\n",
              "  </style>\n",
              "\n",
              "    <script>\n",
              "      const buttonEl =\n",
              "        document.querySelector('#df-30481309-010c-4d6f-b1a5-f1af64a07d9a button.colab-df-convert');\n",
              "      buttonEl.style.display =\n",
              "        google.colab.kernel.accessAllowed ? 'block' : 'none';\n",
              "\n",
              "      async function convertToInteractive(key) {\n",
              "        const element = document.querySelector('#df-30481309-010c-4d6f-b1a5-f1af64a07d9a');\n",
              "        const dataTable =\n",
              "          await google.colab.kernel.invokeFunction('convertToInteractive',\n",
              "                                                    [key], {});\n",
              "        if (!dataTable) return;\n",
              "\n",
              "        const docLinkHtml = 'Like what you see? Visit the ' +\n",
              "          '<a target=\"_blank\" href=https://colab.research.google.com/notebooks/data_table.ipynb>data table notebook</a>'\n",
              "          + ' to learn more about interactive tables.';\n",
              "        element.innerHTML = '';\n",
              "        dataTable['output_type'] = 'display_data';\n",
              "        await google.colab.output.renderOutput(dataTable, element);\n",
              "        const docLink = document.createElement('div');\n",
              "        docLink.innerHTML = docLinkHtml;\n",
              "        element.appendChild(docLink);\n",
              "      }\n",
              "    </script>\n",
              "  </div>\n",
              "\n",
              "\n",
              "<div id=\"df-3fc7d5a0-ab66-4167-b1a8-034aa793fb38\">\n",
              "  <button class=\"colab-df-quickchart\" onclick=\"quickchart('df-3fc7d5a0-ab66-4167-b1a8-034aa793fb38')\"\n",
              "            title=\"Suggest charts.\"\n",
              "            style=\"display:none;\">\n",
              "\n",
              "<svg xmlns=\"http://www.w3.org/2000/svg\" height=\"24px\"viewBox=\"0 0 24 24\"\n",
              "     width=\"24px\">\n",
              "    <g>\n",
              "        <path d=\"M19 3H5c-1.1 0-2 .9-2 2v14c0 1.1.9 2 2 2h14c1.1 0 2-.9 2-2V5c0-1.1-.9-2-2-2zM9 17H7v-7h2v7zm4 0h-2V7h2v10zm4 0h-2v-4h2v4z\"/>\n",
              "    </g>\n",
              "</svg>\n",
              "  </button>\n",
              "\n",
              "<style>\n",
              "  .colab-df-quickchart {\n",
              "    background-color: #E8F0FE;\n",
              "    border: none;\n",
              "    border-radius: 50%;\n",
              "    cursor: pointer;\n",
              "    display: none;\n",
              "    fill: #1967D2;\n",
              "    height: 32px;\n",
              "    padding: 0 0 0 0;\n",
              "    width: 32px;\n",
              "  }\n",
              "\n",
              "  .colab-df-quickchart:hover {\n",
              "    background-color: #E2EBFA;\n",
              "    box-shadow: 0px 1px 2px rgba(60, 64, 67, 0.3), 0px 1px 3px 1px rgba(60, 64, 67, 0.15);\n",
              "    fill: #174EA6;\n",
              "  }\n",
              "\n",
              "  [theme=dark] .colab-df-quickchart {\n",
              "    background-color: #3B4455;\n",
              "    fill: #D2E3FC;\n",
              "  }\n",
              "\n",
              "  [theme=dark] .colab-df-quickchart:hover {\n",
              "    background-color: #434B5C;\n",
              "    box-shadow: 0px 1px 3px 1px rgba(0, 0, 0, 0.15);\n",
              "    filter: drop-shadow(0px 1px 2px rgba(0, 0, 0, 0.3));\n",
              "    fill: #FFFFFF;\n",
              "  }\n",
              "</style>\n",
              "\n",
              "  <script>\n",
              "    async function quickchart(key) {\n",
              "      const charts = await google.colab.kernel.invokeFunction(\n",
              "          'suggestCharts', [key], {});\n",
              "    }\n",
              "    (() => {\n",
              "      let quickchartButtonEl =\n",
              "        document.querySelector('#df-3fc7d5a0-ab66-4167-b1a8-034aa793fb38 button');\n",
              "      quickchartButtonEl.style.display =\n",
              "        google.colab.kernel.accessAllowed ? 'block' : 'none';\n",
              "    })();\n",
              "  </script>\n",
              "</div>\n",
              "    </div>\n",
              "  </div>\n"
            ]
          },
          "metadata": {},
          "execution_count": 11
        }
      ]
    },
    {
      "cell_type": "code",
      "source": [
        "#asbsolute values to remove the potential nagetive errors\n",
        "columns_to_convert = ['ENERGY_CONSUMPTION', 'CO2_EMISSIONS', 'HOT_WATER_COST', 'LIGHTING_COST', 'HEATING_COST']\n",
        "# Apply the absolute function to the specified columns\n",
        "df_imputed[columns_to_convert] = df_imputed[columns_to_convert].apply(abs)\n",
        "df_imputed.describe()"
      ],
      "metadata": {
        "colab": {
          "base_uri": "https://localhost:8080/",
          "height": 300
        },
        "id": "HOL_iB25zo5d",
        "outputId": "956e004a-9e34-4f62-9814-c943be3d1b12"
      },
      "execution_count": 12,
      "outputs": [
        {
          "output_type": "execute_result",
          "data": {
            "text/plain": [
              "       ENERGY_EFFICIENCY  ENERGY_CONSUMPTION  CO2_EMISSIONS  HOT_WATER_COST  \\\n",
              "count      181682.000000       181682.000000  181682.000000   181682.000000   \n",
              "mean           63.614855          282.141186       3.661505      143.181296   \n",
              "std            13.355965          140.950950       2.580153       77.071912   \n",
              "min             1.000000            0.000000       0.000000        0.000000   \n",
              "25%            56.000000          200.000000       2.200000       95.000000   \n",
              "50%            66.000000          260.000000       3.200000      118.000000   \n",
              "75%            73.000000          339.000000       4.600000      165.000000   \n",
              "max           120.000000        17099.000000     271.000000     1757.000000   \n",
              "\n",
              "       ENVIRONMENT_IMPACT  LIGHTING_COST   HEATING_COST  \n",
              "count       181682.000000  181682.000000  181682.000000  \n",
              "mean            61.386477      66.931903     610.240807  \n",
              "std             15.869106      31.004378     445.976647  \n",
              "min              1.000000       0.000000       0.000000  \n",
              "25%             51.000000      47.000000     354.000000  \n",
              "50%             62.000000      62.000000     524.500000  \n",
              "75%             72.000000      81.000000     766.000000  \n",
              "max            126.000000    2322.000000   41862.000000  "
            ],
            "text/html": [
              "\n",
              "  <div id=\"df-d8871480-79b2-4bff-ae56-16e946d42fa8\" class=\"colab-df-container\">\n",
              "    <div>\n",
              "<style scoped>\n",
              "    .dataframe tbody tr th:only-of-type {\n",
              "        vertical-align: middle;\n",
              "    }\n",
              "\n",
              "    .dataframe tbody tr th {\n",
              "        vertical-align: top;\n",
              "    }\n",
              "\n",
              "    .dataframe thead th {\n",
              "        text-align: right;\n",
              "    }\n",
              "</style>\n",
              "<table border=\"1\" class=\"dataframe\">\n",
              "  <thead>\n",
              "    <tr style=\"text-align: right;\">\n",
              "      <th></th>\n",
              "      <th>ENERGY_EFFICIENCY</th>\n",
              "      <th>ENERGY_CONSUMPTION</th>\n",
              "      <th>CO2_EMISSIONS</th>\n",
              "      <th>HOT_WATER_COST</th>\n",
              "      <th>ENVIRONMENT_IMPACT</th>\n",
              "      <th>LIGHTING_COST</th>\n",
              "      <th>HEATING_COST</th>\n",
              "    </tr>\n",
              "  </thead>\n",
              "  <tbody>\n",
              "    <tr>\n",
              "      <th>count</th>\n",
              "      <td>181682.000000</td>\n",
              "      <td>181682.000000</td>\n",
              "      <td>181682.000000</td>\n",
              "      <td>181682.000000</td>\n",
              "      <td>181682.000000</td>\n",
              "      <td>181682.000000</td>\n",
              "      <td>181682.000000</td>\n",
              "    </tr>\n",
              "    <tr>\n",
              "      <th>mean</th>\n",
              "      <td>63.614855</td>\n",
              "      <td>282.141186</td>\n",
              "      <td>3.661505</td>\n",
              "      <td>143.181296</td>\n",
              "      <td>61.386477</td>\n",
              "      <td>66.931903</td>\n",
              "      <td>610.240807</td>\n",
              "    </tr>\n",
              "    <tr>\n",
              "      <th>std</th>\n",
              "      <td>13.355965</td>\n",
              "      <td>140.950950</td>\n",
              "      <td>2.580153</td>\n",
              "      <td>77.071912</td>\n",
              "      <td>15.869106</td>\n",
              "      <td>31.004378</td>\n",
              "      <td>445.976647</td>\n",
              "    </tr>\n",
              "    <tr>\n",
              "      <th>min</th>\n",
              "      <td>1.000000</td>\n",
              "      <td>0.000000</td>\n",
              "      <td>0.000000</td>\n",
              "      <td>0.000000</td>\n",
              "      <td>1.000000</td>\n",
              "      <td>0.000000</td>\n",
              "      <td>0.000000</td>\n",
              "    </tr>\n",
              "    <tr>\n",
              "      <th>25%</th>\n",
              "      <td>56.000000</td>\n",
              "      <td>200.000000</td>\n",
              "      <td>2.200000</td>\n",
              "      <td>95.000000</td>\n",
              "      <td>51.000000</td>\n",
              "      <td>47.000000</td>\n",
              "      <td>354.000000</td>\n",
              "    </tr>\n",
              "    <tr>\n",
              "      <th>50%</th>\n",
              "      <td>66.000000</td>\n",
              "      <td>260.000000</td>\n",
              "      <td>3.200000</td>\n",
              "      <td>118.000000</td>\n",
              "      <td>62.000000</td>\n",
              "      <td>62.000000</td>\n",
              "      <td>524.500000</td>\n",
              "    </tr>\n",
              "    <tr>\n",
              "      <th>75%</th>\n",
              "      <td>73.000000</td>\n",
              "      <td>339.000000</td>\n",
              "      <td>4.600000</td>\n",
              "      <td>165.000000</td>\n",
              "      <td>72.000000</td>\n",
              "      <td>81.000000</td>\n",
              "      <td>766.000000</td>\n",
              "    </tr>\n",
              "    <tr>\n",
              "      <th>max</th>\n",
              "      <td>120.000000</td>\n",
              "      <td>17099.000000</td>\n",
              "      <td>271.000000</td>\n",
              "      <td>1757.000000</td>\n",
              "      <td>126.000000</td>\n",
              "      <td>2322.000000</td>\n",
              "      <td>41862.000000</td>\n",
              "    </tr>\n",
              "  </tbody>\n",
              "</table>\n",
              "</div>\n",
              "    <div class=\"colab-df-buttons\">\n",
              "\n",
              "  <div class=\"colab-df-container\">\n",
              "    <button class=\"colab-df-convert\" onclick=\"convertToInteractive('df-d8871480-79b2-4bff-ae56-16e946d42fa8')\"\n",
              "            title=\"Convert this dataframe to an interactive table.\"\n",
              "            style=\"display:none;\">\n",
              "\n",
              "  <svg xmlns=\"http://www.w3.org/2000/svg\" height=\"24px\" viewBox=\"0 -960 960 960\">\n",
              "    <path d=\"M120-120v-720h720v720H120Zm60-500h600v-160H180v160Zm220 220h160v-160H400v160Zm0 220h160v-160H400v160ZM180-400h160v-160H180v160Zm440 0h160v-160H620v160ZM180-180h160v-160H180v160Zm440 0h160v-160H620v160Z\"/>\n",
              "  </svg>\n",
              "    </button>\n",
              "\n",
              "  <style>\n",
              "    .colab-df-container {\n",
              "      display:flex;\n",
              "      gap: 12px;\n",
              "    }\n",
              "\n",
              "    .colab-df-convert {\n",
              "      background-color: #E8F0FE;\n",
              "      border: none;\n",
              "      border-radius: 50%;\n",
              "      cursor: pointer;\n",
              "      display: none;\n",
              "      fill: #1967D2;\n",
              "      height: 32px;\n",
              "      padding: 0 0 0 0;\n",
              "      width: 32px;\n",
              "    }\n",
              "\n",
              "    .colab-df-convert:hover {\n",
              "      background-color: #E2EBFA;\n",
              "      box-shadow: 0px 1px 2px rgba(60, 64, 67, 0.3), 0px 1px 3px 1px rgba(60, 64, 67, 0.15);\n",
              "      fill: #174EA6;\n",
              "    }\n",
              "\n",
              "    .colab-df-buttons div {\n",
              "      margin-bottom: 4px;\n",
              "    }\n",
              "\n",
              "    [theme=dark] .colab-df-convert {\n",
              "      background-color: #3B4455;\n",
              "      fill: #D2E3FC;\n",
              "    }\n",
              "\n",
              "    [theme=dark] .colab-df-convert:hover {\n",
              "      background-color: #434B5C;\n",
              "      box-shadow: 0px 1px 3px 1px rgba(0, 0, 0, 0.15);\n",
              "      filter: drop-shadow(0px 1px 2px rgba(0, 0, 0, 0.3));\n",
              "      fill: #FFFFFF;\n",
              "    }\n",
              "  </style>\n",
              "\n",
              "    <script>\n",
              "      const buttonEl =\n",
              "        document.querySelector('#df-d8871480-79b2-4bff-ae56-16e946d42fa8 button.colab-df-convert');\n",
              "      buttonEl.style.display =\n",
              "        google.colab.kernel.accessAllowed ? 'block' : 'none';\n",
              "\n",
              "      async function convertToInteractive(key) {\n",
              "        const element = document.querySelector('#df-d8871480-79b2-4bff-ae56-16e946d42fa8');\n",
              "        const dataTable =\n",
              "          await google.colab.kernel.invokeFunction('convertToInteractive',\n",
              "                                                    [key], {});\n",
              "        if (!dataTable) return;\n",
              "\n",
              "        const docLinkHtml = 'Like what you see? Visit the ' +\n",
              "          '<a target=\"_blank\" href=https://colab.research.google.com/notebooks/data_table.ipynb>data table notebook</a>'\n",
              "          + ' to learn more about interactive tables.';\n",
              "        element.innerHTML = '';\n",
              "        dataTable['output_type'] = 'display_data';\n",
              "        await google.colab.output.renderOutput(dataTable, element);\n",
              "        const docLink = document.createElement('div');\n",
              "        docLink.innerHTML = docLinkHtml;\n",
              "        element.appendChild(docLink);\n",
              "      }\n",
              "    </script>\n",
              "  </div>\n",
              "\n",
              "\n",
              "<div id=\"df-6d9faae1-3561-46bf-8541-5538b9825d4d\">\n",
              "  <button class=\"colab-df-quickchart\" onclick=\"quickchart('df-6d9faae1-3561-46bf-8541-5538b9825d4d')\"\n",
              "            title=\"Suggest charts.\"\n",
              "            style=\"display:none;\">\n",
              "\n",
              "<svg xmlns=\"http://www.w3.org/2000/svg\" height=\"24px\"viewBox=\"0 0 24 24\"\n",
              "     width=\"24px\">\n",
              "    <g>\n",
              "        <path d=\"M19 3H5c-1.1 0-2 .9-2 2v14c0 1.1.9 2 2 2h14c1.1 0 2-.9 2-2V5c0-1.1-.9-2-2-2zM9 17H7v-7h2v7zm4 0h-2V7h2v10zm4 0h-2v-4h2v4z\"/>\n",
              "    </g>\n",
              "</svg>\n",
              "  </button>\n",
              "\n",
              "<style>\n",
              "  .colab-df-quickchart {\n",
              "    background-color: #E8F0FE;\n",
              "    border: none;\n",
              "    border-radius: 50%;\n",
              "    cursor: pointer;\n",
              "    display: none;\n",
              "    fill: #1967D2;\n",
              "    height: 32px;\n",
              "    padding: 0 0 0 0;\n",
              "    width: 32px;\n",
              "  }\n",
              "\n",
              "  .colab-df-quickchart:hover {\n",
              "    background-color: #E2EBFA;\n",
              "    box-shadow: 0px 1px 2px rgba(60, 64, 67, 0.3), 0px 1px 3px 1px rgba(60, 64, 67, 0.15);\n",
              "    fill: #174EA6;\n",
              "  }\n",
              "\n",
              "  [theme=dark] .colab-df-quickchart {\n",
              "    background-color: #3B4455;\n",
              "    fill: #D2E3FC;\n",
              "  }\n",
              "\n",
              "  [theme=dark] .colab-df-quickchart:hover {\n",
              "    background-color: #434B5C;\n",
              "    box-shadow: 0px 1px 3px 1px rgba(0, 0, 0, 0.15);\n",
              "    filter: drop-shadow(0px 1px 2px rgba(0, 0, 0, 0.3));\n",
              "    fill: #FFFFFF;\n",
              "  }\n",
              "</style>\n",
              "\n",
              "  <script>\n",
              "    async function quickchart(key) {\n",
              "      const charts = await google.colab.kernel.invokeFunction(\n",
              "          'suggestCharts', [key], {});\n",
              "    }\n",
              "    (() => {\n",
              "      let quickchartButtonEl =\n",
              "        document.querySelector('#df-6d9faae1-3561-46bf-8541-5538b9825d4d button');\n",
              "      quickchartButtonEl.style.display =\n",
              "        google.colab.kernel.accessAllowed ? 'block' : 'none';\n",
              "    })();\n",
              "  </script>\n",
              "</div>\n",
              "    </div>\n",
              "  </div>\n"
            ]
          },
          "metadata": {},
          "execution_count": 12
        }
      ]
    },
    {
      "cell_type": "markdown",
      "source": [
        "**EXPORATORY DATA ANALYSIS**"
      ],
      "metadata": {
        "id": "FqYBslQx1fk7"
      }
    },
    {
      "cell_type": "code",
      "source": [
        "#Relationship between ENERGY_CONSUMPTION and PROPERTY_TYPE\n",
        "import seaborn as sns\n",
        "\n",
        "import matplotlib.pyplot as plt\n",
        "import seaborn as sns\n",
        "plt.figure(figsize=(10, 6))\n",
        "sns.barplot(df_imputed, x='PROPERTY_TYPE', y='ENERGY_CONSUMPTION', ci=None)\n",
        "plt.title('Relationship between Energy Consumption and Property Type')\n",
        "plt.xlabel('Property Type')\n",
        "plt.ylabel('Energy Consumption')\n",
        "plt.show()\n"
      ],
      "metadata": {
        "colab": {
          "base_uri": "https://localhost:8080/",
          "height": 651
        },
        "id": "glL8R30D1XvR",
        "outputId": "77f7d31d-37bb-48f8-ee35-7d77eefecdfb"
      },
      "execution_count": 13,
      "outputs": [
        {
          "output_type": "stream",
          "name": "stderr",
          "text": [
            "<ipython-input-13-13f64c2c2175>:7: FutureWarning: \n",
            "\n",
            "The `ci` parameter is deprecated. Use `errorbar=None` for the same effect.\n",
            "\n",
            "  sns.barplot(df_imputed, x='PROPERTY_TYPE', y='ENERGY_CONSUMPTION', ci=None)\n"
          ]
        },
        {
          "output_type": "display_data",
          "data": {
            "text/plain": [
              "<Figure size 1000x600 with 1 Axes>"
            ],
            "image/png": "[encoded data removed]"
          },
          "metadata": {}
        }
      ]
    },
    {
      "cell_type": "code",
      "source": [
        "#Relationship between Energy Consumption and Main Heating Description\n",
        "import matplotlib.pyplot as plt\n",
        "import seaborn as sns\n",
        "\n",
        "# Get the top 5 most common MAINHEAT_DESCRIPTION categories\n",
        "top_mainheat = df_imputed['MAINHEAT_DESCRIPTION'].value_counts().head(5).index\n",
        "\n",
        "plt.figure(figsize=(10, 6))\n",
        "sns.barplot(data=df_imputed, x='MAINHEAT_DESCRIPTION', y='ENERGY_CONSUMPTION', ci=None, order=top_mainheat)\n",
        "plt.title('Relationship between Energy Consumption and Main Heating Description (Top 5)')\n",
        "plt.xlabel('Main Heating Description')\n",
        "plt.ylabel('Energy Consumption')\n",
        "plt.xticks(rotation=45)\n",
        "plt.show()\n",
        "\n"
      ],
      "metadata": {
        "colab": {
          "base_uri": "https://localhost:8080/",
          "height": 801
        },
        "id": "L6g_v06E2vgp",
        "outputId": "cfe0b6a7-46b5-481e-c425-ea1921e328a2"
      },
      "execution_count": 13,
      "outputs": [
        {
          "output_type": "stream",
          "name": "stderr",
          "text": [
            "<ipython-input-13-247665b62dfe>:9: FutureWarning: \n",
            "\n",
            "The `ci` parameter is deprecated. Use `errorbar=None` for the same effect.\n",
            "\n",
            "  sns.barplot(data=df_imputed, x='MAINHEAT_DESCRIPTION', y='ENERGY_CONSUMPTION', ci=None, order=top_mainheat)\n"
          ]
        },
        {
          "output_type": "display_data",
          "data": {
            "text/plain": [
              "<Figure size 1000x600 with 1 Axes>"
            ],
            "image/png": "[encoded data removed]"
          },
          "metadata": {}
        }
      ]
    },
    {
      "cell_type": "code",
      "source": [
        "#Relationship between ENVIRONMENT_IMPACT and PROPERTY_TYPE\n",
        "plt.figure(figsize=(10, 6))\n",
        "sns.barplot(df_imputed, x='PROPERTY_TYPE', y='ENVIRONMENT_IMPACT', ci=None)\n",
        "plt.title('Relationship between Environment Impact and Property Type')\n",
        "plt.xlabel('Property Type')\n",
        "plt.ylabel('Environment Impact')\n",
        "plt.show()\n"
      ],
      "metadata": {
        "colab": {
          "base_uri": "https://localhost:8080/",
          "height": 651
        },
        "id": "tzg8ody-4mhX",
        "outputId": "9e425fa8-3315-45d1-d60e-e2fde3c9dfa5"
      },
      "execution_count": null,
      "outputs": [
        {
          "output_type": "stream",
          "name": "stderr",
          "text": [
            "<ipython-input-52-fd5d6db37a3d>:3: FutureWarning: \n",
            "\n",
            "The `ci` parameter is deprecated. Use `errorbar=None` for the same effect.\n",
            "\n",
            "  sns.barplot(df_imputed, x='PROPERTY_TYPE', y='ENVIRONMENT_IMPACT', ci=None)\n"
          ]
        },
        {
          "output_type": "display_data",
          "data": {
            "text/plain": [
              "<Figure size 1000x600 with 1 Axes>"
            ],
            "image/png": "[encoded data removed]"
          },
          "metadata": {}
        }
      ]
    },
    {
      "cell_type": "code",
      "source": [
        "# Calculate correlation matrix for numerical columns\n",
        "correlation_matrix = df_imputed[numerical_columns].corr()\n",
        "\n",
        "# Heatmap for correlation matrix\n",
        "plt.figure(figsize=(10, 8))\n",
        "sns.heatmap(correlation_matrix, annot=True, cmap='coolwarm')\n",
        "plt.title('Correlation Matrix of Numerical Columns')\n",
        "plt.show()"
      ],
      "metadata": {
        "colab": {
          "base_uri": "https://localhost:8080/",
          "height": 851
        },
        "id": "38BKgO4A6hJq",
        "outputId": "bc86aee4-be77-4e75-a194-5fa318885c54"
      },
      "execution_count": 14,
      "outputs": [
        {
          "output_type": "display_data",
          "data": {
            "text/plain": [
              "<Figure size 1000x800 with 2 Axes>"
            ],
            "image/png": "[encoded data removed]"
          },
          "metadata": {}
        }
      ]
    },
    {
      "cell_type": "markdown",
      "source": [
        "**FEATURE ENGINEERING**"
      ],
      "metadata": {
        "id": "dh-4dhDv1j2I"
      }
    },
    {
      "cell_type": "code",
      "source": [
        "from sklearn.preprocessing import StandardScaler\n",
        "# Convert categorical variables to dummy variables\n",
        "df_with_dummies = pd.get_dummies(df_imputed, columns=['PROPERTY_TYPE', 'MAINHEAT_DESCRIPTION'])\n",
        "\n",
        "# Extract numerical columns for scaling\n",
        "numerical_data = df_with_dummies[numerical_columns]\n",
        "\n",
        "# Create a StandardScaler instance\n",
        "scaler = StandardScaler()\n",
        "\n",
        "# Scale the numerical data\n",
        "scaled_numerical_data = scaler.fit_transform(numerical_data)\n",
        "\n",
        "# Create a new DataFrame with scaled numerical data\n",
        "scaled_df = pd.DataFrame(scaled_numerical_data, columns=numerical_columns)\n",
        "\n",
        "# Combine the scaled numerical data with the dummy variables\n",
        "final_df = pd.concat([scaled_df, df_with_dummies.drop(columns=numerical_columns)], axis=1)\n",
        "\n",
        "# 'final_df' now contains both scaled numerical data and dummy variables\n",
        "# Now you can use the .describe() method on the DataFrame\n",
        "summary_stats = final_df.describe()\n",
        "\n",
        "# Display the summary statistics\n",
        "summary_stats"
      ],
      "metadata": {
        "colab": {
          "base_uri": "https://localhost:8080/",
          "height": 401
        },
        "id": "279M2aJDyvun",
        "outputId": "70ffabcc-9332-440d-c6e0-fe1b0fc6c267"
      },
      "execution_count": 15,
      "outputs": [
        {
          "output_type": "execute_result",
          "data": {
            "text/plain": [
              "       ENERGY_EFFICIENCY  ENERGY_CONSUMPTION  CO2_EMISSIONS  HOT_WATER_COST  \\\n",
              "count       1.816820e+05        1.816820e+05   1.816820e+05    1.816820e+05   \n",
              "mean       -1.188918e-16        1.495534e-16  -8.385000e-17    1.626940e-16   \n",
              "std         1.000003e+00        1.000003e+00   1.000003e+00    1.000003e+00   \n",
              "min        -4.688169e+00       -2.001703e+00  -1.419108e+00   -1.857767e+00   \n",
              "25%        -5.701479e-01       -5.827659e-01  -5.664429e-01   -6.251490e-01   \n",
              "50%         1.785833e-01       -1.570848e-01  -1.788679e-01   -3.267256e-01   \n",
              "75%         7.026951e-01        4.033954e-01   3.637370e-01    2.830962e-01   \n",
              "max         4.221732e+00        1.193103e+02   1.036137e+02    2.093919e+01   \n",
              "\n",
              "       ENVIRONMENT_IMPACT  LIGHTING_COST  HEATING_COST  \\\n",
              "count        1.816820e+05   1.816820e+05  1.816820e+05   \n",
              "mean        -1.436088e-16  -2.903463e-16  6.507761e-17   \n",
              "std          1.000003e+00   1.000003e+00  1.000003e+00   \n",
              "min         -3.805296e+00  -2.158795e+00 -1.368328e+00   \n",
              "25%         -6.545111e-01  -6.428756e-01 -5.745626e-01   \n",
              "50%          3.866155e-02  -1.590716e-01 -1.922546e-01   \n",
              "75%          6.688185e-01   4.537468e-01  3.492551e-01   \n",
              "max          4.071666e+00   7.273406e+01  9.249783e+01   \n",
              "\n",
              "       PROPERTY_TYPE_Bungalow  PROPERTY_TYPE_Flat  PROPERTY_TYPE_House  ...  \\\n",
              "count           181682.000000       181682.000000        181682.000000  ...   \n",
              "mean                 0.054860            0.299144             0.623281  ...   \n",
              "std                  0.227707            0.457884             0.484565  ...   \n",
              "min                  0.000000            0.000000             0.000000  ...   \n",
              "25%                  0.000000            0.000000             0.000000  ...   \n",
              "50%                  0.000000            0.000000             1.000000  ...   \n",
              "75%                  0.000000            1.000000             1.000000  ...   \n",
              "max                  1.000000            1.000000             1.000000  ...   \n",
              "\n",
              "       MAINHEAT_DESCRIPTION_Room heaters, radiators, electric  \\\n",
              "count                                      181682.000000        \n",
              "mean                                            0.000006        \n",
              "std                                             0.002346        \n",
              "min                                             0.000000        \n",
              "25%                                             0.000000        \n",
              "50%                                             0.000000        \n",
              "75%                                             0.000000        \n",
              "max                                             1.000000        \n",
              "\n",
              "       MAINHEAT_DESCRIPTION_Room heaters, smokeless fuel  \\\n",
              "count                                      181682.000000   \n",
              "mean                                            0.000105   \n",
              "std                                             0.010226   \n",
              "min                                             0.000000   \n",
              "25%                                             0.000000   \n",
              "50%                                             0.000000   \n",
              "75%                                             0.000000   \n",
              "max                                             1.000000   \n",
              "\n",
              "       MAINHEAT_DESCRIPTION_Room heaters, wood logs  \\\n",
              "count                                 181682.000000   \n",
              "mean                                       0.000050   \n",
              "std                                        0.007038   \n",
              "min                                        0.000000   \n",
              "25%                                        0.000000   \n",
              "50%                                        0.000000   \n",
              "75%                                        0.000000   \n",
              "max                                        1.000000   \n",
              "\n",
              "       MAINHEAT_DESCRIPTION_Room heaters, |Gwresogyddion ystafell, |electric|trydan  \\\n",
              "count                                      181682.000000                              \n",
              "mean                                            0.000325                              \n",
              "std                                             0.018018                              \n",
              "min                                             0.000000                              \n",
              "25%                                             0.000000                              \n",
              "50%                                             0.000000                              \n",
              "75%                                             0.000000                              \n",
              "max                                             1.000000                              \n",
              "\n",
              "       MAINHEAT_DESCRIPTION_SAP05:Main-Heating  \\\n",
              "count                            181682.000000   \n",
              "mean                                  0.001921   \n",
              "std                                   0.043787   \n",
              "min                                   0.000000   \n",
              "25%                                   0.000000   \n",
              "50%                                   0.000000   \n",
              "75%                                   0.000000   \n",
              "max                                   1.000000   \n",
              "\n",
              "       MAINHEAT_DESCRIPTION_Warm air, Electricaire  \\\n",
              "count                                181682.000000   \n",
              "mean                                      0.000407   \n",
              "std                                       0.020178   \n",
              "min                                       0.000000   \n",
              "25%                                       0.000000   \n",
              "50%                                       0.000000   \n",
              "75%                                       0.000000   \n",
              "max                                       1.000000   \n",
              "\n",
              "       MAINHEAT_DESCRIPTION_Warm air, electric  \\\n",
              "count                            181682.000000   \n",
              "mean                                  0.000116   \n",
              "std                                   0.010751   \n",
              "min                                   0.000000   \n",
              "25%                                   0.000000   \n",
              "50%                                   0.000000   \n",
              "75%                                   0.000000   \n",
              "max                                   1.000000   \n",
              "\n",
              "       MAINHEAT_DESCRIPTION_Warm air, mains gas  \\\n",
              "count                             181682.000000   \n",
              "mean                                   0.001238   \n",
              "std                                    0.035170   \n",
              "min                                    0.000000   \n",
              "25%                                    0.000000   \n",
              "50%                                    0.000000   \n",
              "75%                                    0.000000   \n",
              "max                                    1.000000   \n",
              "\n",
              "       MAINHEAT_DESCRIPTION_Water source heat pump, radiators, electric  \\\n",
              "count                                      181682.000000                  \n",
              "mean                                            0.000022                  \n",
              "std                                             0.004692                  \n",
              "min                                             0.000000                  \n",
              "25%                                             0.000000                  \n",
              "50%                                             0.000000                  \n",
              "75%                                             0.000000                  \n",
              "max                                             1.000000                  \n",
              "\n",
              "       MAINHEAT_DESCRIPTION_Water source heat pump, warm air, electric  \n",
              "count                                      181682.000000                \n",
              "mean                                            0.000011                \n",
              "std                                             0.003318                \n",
              "min                                             0.000000                \n",
              "25%                                             0.000000                \n",
              "50%                                             0.000000                \n",
              "75%                                             0.000000                \n",
              "max                                             1.000000                \n",
              "\n",
              "[8 rows x 102 columns]"
            ],
            "text/html": [
              "\n",
              "  <div id=\"df-11cab563-ffec-457f-9215-efede239d425\" class=\"colab-df-container\">\n",
              "    <div>\n",
              "<style scoped>\n",
              "    .dataframe tbody tr th:only-of-type {\n",
              "        vertical-align: middle;\n",
              "    }\n",
              "\n",
              "    .dataframe tbody tr th {\n",
              "        vertical-align: top;\n",
              "    }\n",
              "\n",
              "    .dataframe thead th {\n",
              "        text-align: right;\n",
              "    }\n",
              "</style>\n",
              "<table border=\"1\" class=\"dataframe\">\n",
              "  <thead>\n",
              "    <tr style=\"text-align: right;\">\n",
              "      <th></th>\n",
              "      <th>ENERGY_EFFICIENCY</th>\n",
              "      <th>ENERGY_CONSUMPTION</th>\n",
              "      <th>CO2_EMISSIONS</th>\n",
              "      <th>HOT_WATER_COST</th>\n",
              "      <th>ENVIRONMENT_IMPACT</th>\n",
              "      <th>LIGHTING_COST</th>\n",
              "      <th>HEATING_COST</th>\n",
              "      <th>PROPERTY_TYPE_Bungalow</th>\n",
              "      <th>PROPERTY_TYPE_Flat</th>\n",
              "      <th>PROPERTY_TYPE_House</th>\n",
              "      <th>...</th>\n",
              "      <th>MAINHEAT_DESCRIPTION_Room heaters, radiators, electric</th>\n",
              "      <th>MAINHEAT_DESCRIPTION_Room heaters, smokeless fuel</th>\n",
              "      <th>MAINHEAT_DESCRIPTION_Room heaters, wood logs</th>\n",
              "      <th>MAINHEAT_DESCRIPTION_Room heaters, |Gwresogyddion ystafell, |electric|trydan</th>\n",
              "      <th>MAINHEAT_DESCRIPTION_SAP05:Main-Heating</th>\n",
              "      <th>MAINHEAT_DESCRIPTION_Warm air, Electricaire</th>\n",
              "      <th>MAINHEAT_DESCRIPTION_Warm air, electric</th>\n",
              "      <th>MAINHEAT_DESCRIPTION_Warm air, mains gas</th>\n",
              "      <th>MAINHEAT_DESCRIPTION_Water source heat pump, radiators, electric</th>\n",
              "      <th>MAINHEAT_DESCRIPTION_Water source heat pump, warm air, electric</th>\n",
              "    </tr>\n",
              "  </thead>\n",
              "  <tbody>\n",
              "    <tr>\n",
              "      <th>count</th>\n",
              "      <td>1.816820e+05</td>\n",
              "      <td>1.816820e+05</td>\n",
              "      <td>1.816820e+05</td>\n",
              "      <td>1.816820e+05</td>\n",
              "      <td>1.816820e+05</td>\n",
              "      <td>1.816820e+05</td>\n",
              "      <td>1.816820e+05</td>\n",
              "      <td>181682.000000</td>\n",
              "      <td>181682.000000</td>\n",
              "      <td>181682.000000</td>\n",
              "      <td>...</td>\n",
              "      <td>181682.000000</td>\n",
              "      <td>181682.000000</td>\n",
              "      <td>181682.000000</td>\n",
              "      <td>181682.000000</td>\n",
              "      <td>181682.000000</td>\n",
              "      <td>181682.000000</td>\n",
              "      <td>181682.000000</td>\n",
              "      <td>181682.000000</td>\n",
              "      <td>181682.000000</td>\n",
              "      <td>181682.000000</td>\n",
              "    </tr>\n",
              "    <tr>\n",
              "      <th>mean</th>\n",
              "      <td>-1.188918e-16</td>\n",
              "      <td>1.495534e-16</td>\n",
              "      <td>-8.385000e-17</td>\n",
              "      <td>1.626940e-16</td>\n",
              "      <td>-1.436088e-16</td>\n",
              "      <td>-2.903463e-16</td>\n",
              "      <td>6.507761e-17</td>\n",
              "      <td>0.054860</td>\n",
              "      <td>0.299144</td>\n",
              "      <td>0.623281</td>\n",
              "      <td>...</td>\n",
              "      <td>0.000006</td>\n",
              "      <td>0.000105</td>\n",
              "      <td>0.000050</td>\n",
              "      <td>0.000325</td>\n",
              "      <td>0.001921</td>\n",
              "      <td>0.000407</td>\n",
              "      <td>0.000116</td>\n",
              "      <td>0.001238</td>\n",
              "      <td>0.000022</td>\n",
              "      <td>0.000011</td>\n",
              "    </tr>\n",
              "    <tr>\n",
              "      <th>std</th>\n",
              "      <td>1.000003e+00</td>\n",
              "      <td>1.000003e+00</td>\n",
              "      <td>1.000003e+00</td>\n",
              "      <td>1.000003e+00</td>\n",
              "      <td>1.000003e+00</td>\n",
              "      <td>1.000003e+00</td>\n",
              "      <td>1.000003e+00</td>\n",
              "      <td>0.227707</td>\n",
              "      <td>0.457884</td>\n",
              "      <td>0.484565</td>\n",
              "      <td>...</td>\n",
              "      <td>0.002346</td>\n",
              "      <td>0.010226</td>\n",
              "      <td>0.007038</td>\n",
              "      <td>0.018018</td>\n",
              "      <td>0.043787</td>\n",
              "      <td>0.020178</td>\n",
              "      <td>0.010751</td>\n",
              "      <td>0.035170</td>\n",
              "      <td>0.004692</td>\n",
              "      <td>0.003318</td>\n",
              "    </tr>\n",
              "    <tr>\n",
              "      <th>min</th>\n",
              "      <td>-4.688169e+00</td>\n",
              "      <td>-2.001703e+00</td>\n",
              "      <td>-1.419108e+00</td>\n",
              "      <td>-1.857767e+00</td>\n",
              "      <td>-3.805296e+00</td>\n",
              "      <td>-2.158795e+00</td>\n",
              "      <td>-1.368328e+00</td>\n",
              "      <td>0.000000</td>\n",
              "      <td>0.000000</td>\n",
              "      <td>0.000000</td>\n",
              "      <td>...</td>\n",
              "      <td>0.000000</td>\n",
              "      <td>0.000000</td>\n",
              "      <td>0.000000</td>\n",
              "      <td>0.000000</td>\n",
              "      <td>0.000000</td>\n",
              "      <td>0.000000</td>\n",
              "      <td>0.000000</td>\n",
              "      <td>0.000000</td>\n",
              "      <td>0.000000</td>\n",
              "      <td>0.000000</td>\n",
              "    </tr>\n",
              "    <tr>\n",
              "      <th>25%</th>\n",
              "      <td>-5.701479e-01</td>\n",
              "      <td>-5.827659e-01</td>\n",
              "      <td>-5.664429e-01</td>\n",
              "      <td>-6.251490e-01</td>\n",
              "      <td>-6.545111e-01</td>\n",
              "      <td>-6.428756e-01</td>\n",
              "      <td>-5.745626e-01</td>\n",
              "      <td>0.000000</td>\n",
              "      <td>0.000000</td>\n",
              "      <td>0.000000</td>\n",
              "      <td>...</td>\n",
              "      <td>0.000000</td>\n",
              "      <td>0.000000</td>\n",
              "      <td>0.000000</td>\n",
              "      <td>0.000000</td>\n",
              "      <td>0.000000</td>\n",
              "      <td>0.000000</td>\n",
              "      <td>0.000000</td>\n",
              "      <td>0.000000</td>\n",
              "      <td>0.000000</td>\n",
              "      <td>0.000000</td>\n",
              "    </tr>\n",
              "    <tr>\n",
              "      <th>50%</th>\n",
              "      <td>1.785833e-01</td>\n",
              "      <td>-1.570848e-01</td>\n",
              "      <td>-1.788679e-01</td>\n",
              "      <td>-3.267256e-01</td>\n",
              "      <td>3.866155e-02</td>\n",
              "      <td>-1.590716e-01</td>\n",
              "      <td>-1.922546e-01</td>\n",
              "      <td>0.000000</td>\n",
              "      <td>0.000000</td>\n",
              "      <td>1.000000</td>\n",
              "      <td>...</td>\n",
              "      <td>0.000000</td>\n",
              "      <td>0.000000</td>\n",
              "      <td>0.000000</td>\n",
              "      <td>0.000000</td>\n",
              "      <td>0.000000</td>\n",
              "      <td>0.000000</td>\n",
              "      <td>0.000000</td>\n",
              "      <td>0.000000</td>\n",
              "      <td>0.000000</td>\n",
              "      <td>0.000000</td>\n",
              "    </tr>\n",
              "    <tr>\n",
              "      <th>75%</th>\n",
              "      <td>7.026951e-01</td>\n",
              "      <td>4.033954e-01</td>\n",
              "      <td>3.637370e-01</td>\n",
              "      <td>2.830962e-01</td>\n",
              "      <td>6.688185e-01</td>\n",
              "      <td>4.537468e-01</td>\n",
              "      <td>3.492551e-01</td>\n",
              "      <td>0.000000</td>\n",
              "      <td>1.000000</td>\n",
              "      <td>1.000000</td>\n",
              "      <td>...</td>\n",
              "      <td>0.000000</td>\n",
              "      <td>0.000000</td>\n",
              "      <td>0.000000</td>\n",
              "      <td>0.000000</td>\n",
              "      <td>0.000000</td>\n",
              "      <td>0.000000</td>\n",
              "      <td>0.000000</td>\n",
              "      <td>0.000000</td>\n",
              "      <td>0.000000</td>\n",
              "      <td>0.000000</td>\n",
              "    </tr>\n",
              "    <tr>\n",
              "      <th>max</th>\n",
              "      <td>4.221732e+00</td>\n",
              "      <td>1.193103e+02</td>\n",
              "      <td>1.036137e+02</td>\n",
              "      <td>2.093919e+01</td>\n",
              "      <td>4.071666e+00</td>\n",
              "      <td>7.273406e+01</td>\n",
              "      <td>9.249783e+01</td>\n",
              "      <td>1.000000</td>\n",
              "      <td>1.000000</td>\n",
              "      <td>1.000000</td>\n",
              "      <td>...</td>\n",
              "      <td>1.000000</td>\n",
              "      <td>1.000000</td>\n",
              "      <td>1.000000</td>\n",
              "      <td>1.000000</td>\n",
              "      <td>1.000000</td>\n",
              "      <td>1.000000</td>\n",
              "      <td>1.000000</td>\n",
              "      <td>1.000000</td>\n",
              "      <td>1.000000</td>\n",
              "      <td>1.000000</td>\n",
              "    </tr>\n",
              "  </tbody>\n",
              "</table>\n",
              "<p>8 rows × 102 columns</p>\n",
              "</div>\n",
              "    <div class=\"colab-df-buttons\">\n",
              "\n",
              "  <div class=\"colab-df-container\">\n",
              "    <button class=\"colab-df-convert\" onclick=\"convertToInteractive('df-11cab563-ffec-457f-9215-efede239d425')\"\n",
              "            title=\"Convert this dataframe to an interactive table.\"\n",
              "            style=\"display:none;\">\n",
              "\n",
              "  <svg xmlns=\"http://www.w3.org/2000/svg\" height=\"24px\" viewBox=\"0 -960 960 960\">\n",
              "    <path d=\"M120-120v-720h720v720H120Zm60-500h600v-160H180v160Zm220 220h160v-160H400v160Zm0 220h160v-160H400v160ZM180-400h160v-160H180v160Zm440 0h160v-160H620v160ZM180-180h160v-160H180v160Zm440 0h160v-160H620v160Z\"/>\n",
              "  </svg>\n",
              "    </button>\n",
              "\n",
              "  <style>\n",
              "    .colab-df-container {\n",
              "      display:flex;\n",
              "      gap: 12px;\n",
              "    }\n",
              "\n",
              "    .colab-df-convert {\n",
              "      background-color: #E8F0FE;\n",
              "      border: none;\n",
              "      border-radius: 50%;\n",
              "      cursor: pointer;\n",
              "      display: none;\n",
              "      fill: #1967D2;\n",
              "      height: 32px;\n",
              "      padding: 0 0 0 0;\n",
              "      width: 32px;\n",
              "    }\n",
              "\n",
              "    .colab-df-convert:hover {\n",
              "      background-color: #E2EBFA;\n",
              "      box-shadow: 0px 1px 2px rgba(60, 64, 67, 0.3), 0px 1px 3px 1px rgba(60, 64, 67, 0.15);\n",
              "      fill: #174EA6;\n",
              "    }\n",
              "\n",
              "    .colab-df-buttons div {\n",
              "      margin-bottom: 4px;\n",
              "    }\n",
              "\n",
              "    [theme=dark] .colab-df-convert {\n",
              "      background-color: #3B4455;\n",
              "      fill: #D2E3FC;\n",
              "    }\n",
              "\n",
              "    [theme=dark] .colab-df-convert:hover {\n",
              "      background-color: #434B5C;\n",
              "      box-shadow: 0px 1px 3px 1px rgba(0, 0, 0, 0.15);\n",
              "      filter: drop-shadow(0px 1px 2px rgba(0, 0, 0, 0.3));\n",
              "      fill: #FFFFFF;\n",
              "    }\n",
              "  </style>\n",
              "\n",
              "    <script>\n",
              "      const buttonEl =\n",
              "        document.querySelector('#df-11cab563-ffec-457f-9215-efede239d425 button.colab-df-convert');\n",
              "      buttonEl.style.display =\n",
              "        google.colab.kernel.accessAllowed ? 'block' : 'none';\n",
              "\n",
              "      async function convertToInteractive(key) {\n",
              "        const element = document.querySelector('#df-11cab563-ffec-457f-9215-efede239d425');\n",
              "        const dataTable =\n",
              "          await google.colab.kernel.invokeFunction('convertToInteractive',\n",
              "                                                    [key], {});\n",
              "        if (!dataTable) return;\n",
              "\n",
              "        const docLinkHtml = 'Like what you see? Visit the ' +\n",
              "          '<a target=\"_blank\" href=https://colab.research.google.com/notebooks/data_table.ipynb>data table notebook</a>'\n",
              "          + ' to learn more about interactive tables.';\n",
              "        element.innerHTML = '';\n",
              "        dataTable['output_type'] = 'display_data';\n",
              "        await google.colab.output.renderOutput(dataTable, element);\n",
              "        const docLink = document.createElement('div');\n",
              "        docLink.innerHTML = docLinkHtml;\n",
              "        element.appendChild(docLink);\n",
              "      }\n",
              "    </script>\n",
              "  </div>\n",
              "\n",
              "\n",
              "<div id=\"df-321e8601-877b-4521-a0a4-5e6885fcf79c\">\n",
              "  <button class=\"colab-df-quickchart\" onclick=\"quickchart('df-321e8601-877b-4521-a0a4-5e6885fcf79c')\"\n",
              "            title=\"Suggest charts.\"\n",
              "            style=\"display:none;\">\n",
              "\n",
              "<svg xmlns=\"http://www.w3.org/2000/svg\" height=\"24px\"viewBox=\"0 0 24 24\"\n",
              "     width=\"24px\">\n",
              "    <g>\n",
              "        <path d=\"M19 3H5c-1.1 0-2 .9-2 2v14c0 1.1.9 2 2 2h14c1.1 0 2-.9 2-2V5c0-1.1-.9-2-2-2zM9 17H7v-7h2v7zm4 0h-2V7h2v10zm4 0h-2v-4h2v4z\"/>\n",
              "    </g>\n",
              "</svg>\n",
              "  </button>\n",
              "\n",
              "<style>\n",
              "  .colab-df-quickchart {\n",
              "    background-color: #E8F0FE;\n",
              "    border: none;\n",
              "    border-radius: 50%;\n",
              "    cursor: pointer;\n",
              "    display: none;\n",
              "    fill: #1967D2;\n",
              "    height: 32px;\n",
              "    padding: 0 0 0 0;\n",
              "    width: 32px;\n",
              "  }\n",
              "\n",
              "  .colab-df-quickchart:hover {\n",
              "    background-color: #E2EBFA;\n",
              "    box-shadow: 0px 1px 2px rgba(60, 64, 67, 0.3), 0px 1px 3px 1px rgba(60, 64, 67, 0.15);\n",
              "    fill: #174EA6;\n",
              "  }\n",
              "\n",
              "  [theme=dark] .colab-df-quickchart {\n",
              "    background-color: #3B4455;\n",
              "    fill: #D2E3FC;\n",
              "  }\n",
              "\n",
              "  [theme=dark] .colab-df-quickchart:hover {\n",
              "    background-color: #434B5C;\n",
              "    box-shadow: 0px 1px 3px 1px rgba(0, 0, 0, 0.15);\n",
              "    filter: drop-shadow(0px 1px 2px rgba(0, 0, 0, 0.3));\n",
              "    fill: #FFFFFF;\n",
              "  }\n",
              "</style>\n",
              "\n",
              "  <script>\n",
              "    async function quickchart(key) {\n",
              "      const charts = await google.colab.kernel.invokeFunction(\n",
              "          'suggestCharts', [key], {});\n",
              "    }\n",
              "    (() => {\n",
              "      let quickchartButtonEl =\n",
              "        document.querySelector('#df-321e8601-877b-4521-a0a4-5e6885fcf79c button');\n",
              "      quickchartButtonEl.style.display =\n",
              "        google.colab.kernel.accessAllowed ? 'block' : 'none';\n",
              "    })();\n",
              "  </script>\n",
              "</div>\n",
              "    </div>\n",
              "  </div>\n"
            ]
          },
          "metadata": {},
          "execution_count": 15
        }
      ]
    },
    {
      "cell_type": "code",
      "source": [
        "# Split the data into feature matrix X and target variable y\n",
        "from sklearn.model_selection import train_test_split\n",
        "X = final_df.drop(columns=['HEATING_COST'])\n",
        "y = final_df['HEATING_COST']\n",
        "\n",
        "# Split the cleaned data into training and testing sets\n",
        "X_train, X_test, y_train, y_test = train_test_split(X, y, test_size=0.2, random_state=42)"
      ],
      "metadata": {
        "id": "IppWNSYiVSNZ"
      },
      "execution_count": 16,
      "outputs": []
    },
    {
      "cell_type": "markdown",
      "source": [
        "**MACHINE LEARNING MODELS**"
      ],
      "metadata": {
        "id": "jNc8GWl-8LY3"
      }
    },
    {
      "cell_type": "code",
      "source": [],
      "metadata": {
        "id": "xQ5kCgIw1jpw"
      },
      "execution_count": null,
      "outputs": []
    },
    {
      "cell_type": "markdown",
      "source": [
        "**LINEAR REGRESSION**"
      ],
      "metadata": {
        "id": "IdtVQuoS7HDT"
      }
    },
    {
      "cell_type": "code",
      "source": [
        "# Create a linear regression model\n",
        "from sklearn.linear_model import LinearRegression\n",
        "regression_model = LinearRegression()\n",
        "\n",
        "# Train the model on the training data\n",
        "regression_model.fit(X_train, y_train)"
      ],
      "metadata": {
        "colab": {
          "base_uri": "https://localhost:8080/",
          "height": 74
        },
        "id": "SMtAeIJt8KMy",
        "outputId": "5d950656-76a2-41da-aa56-70b7b8735c54"
      },
      "execution_count": 17,
      "outputs": [
        {
          "output_type": "execute_result",
          "data": {
            "text/plain": [
              "LinearRegression()"
            ],
            "text/html": [
              "<style>#sk-container-id-1 {color: black;background-color: white;}#sk-container-id-1 pre{padding: 0;}#sk-container-id-1 div.sk-toggleable {background-color: white;}#sk-container-id-1 label.sk-toggleable__label {cursor: pointer;display: block;width: 100%;margin-bottom: 0;padding: 0.3em;box-sizing: border-box;text-align: center;}#sk-container-id-1 label.sk-toggleable__label-arrow:before {content: \"▸\";float: left;margin-right: 0.25em;color: #696969;}#sk-container-id-1 label.sk-toggleable__label-arrow:hover:before {color: black;}#sk-container-id-1 div.sk-estimator:hover label.sk-toggleable__label-arrow:before {color: black;}#sk-container-id-1 div.sk-toggleable__content {max-height: 0;max-width: 0;overflow: hidden;text-align: left;background-color: #f0f8ff;}#sk-container-id-1 div.sk-toggleable__content pre {margin: 0.2em;color: black;border-radius: 0.25em;background-color: #f0f8ff;}#sk-container-id-1 input.sk-toggleable__control:checked~div.sk-toggleable__content {max-height: 200px;max-width: 100%;overflow: auto;}#sk-container-id-1 input.sk-toggleable__control:checked~label.sk-toggleable__label-arrow:before {content: \"▾\";}#sk-container-id-1 div.sk-estimator input.sk-toggleable__control:checked~label.sk-toggleable__label {background-color: #d4ebff;}#sk-container-id-1 div.sk-label input.sk-toggleable__control:checked~label.sk-toggleable__label {background-color: #d4ebff;}#sk-container-id-1 input.sk-hidden--visually {border: 0;clip: rect(1px 1px 1px 1px);clip: rect(1px, 1px, 1px, 1px);height: 1px;margin: -1px;overflow: hidden;padding: 0;position: absolute;width: 1px;}#sk-container-id-1 div.sk-estimator {font-family: monospace;background-color: #f0f8ff;border: 1px dotted black;border-radius: 0.25em;box-sizing: border-box;margin-bottom: 0.5em;}#sk-container-id-1 div.sk-estimator:hover {background-color: #d4ebff;}#sk-container-id-1 div.sk-parallel-item::after {content: \"\";width: 100%;border-bottom: 1px solid gray;flex-grow: 1;}#sk-container-id-1 div.sk-label:hover label.sk-toggleable__label {background-color: #d4ebff;}#sk-container-id-1 div.sk-serial::before {content: \"\";position: absolute;border-left: 1px solid gray;box-sizing: border-box;top: 0;bottom: 0;left: 50%;z-index: 0;}#sk-container-id-1 div.sk-serial {display: flex;flex-direction: column;align-items: center;background-color: white;padding-right: 0.2em;padding-left: 0.2em;position: relative;}#sk-container-id-1 div.sk-item {position: relative;z-index: 1;}#sk-container-id-1 div.sk-parallel {display: flex;align-items: stretch;justify-content: center;background-color: white;position: relative;}#sk-container-id-1 div.sk-item::before, #sk-container-id-1 div.sk-parallel-item::before {content: \"\";position: absolute;border-left: 1px solid gray;box-sizing: border-box;top: 0;bottom: 0;left: 50%;z-index: -1;}#sk-container-id-1 div.sk-parallel-item {display: flex;flex-direction: column;z-index: 1;position: relative;background-color: white;}#sk-container-id-1 div.sk-parallel-item:first-child::after {align-self: flex-end;width: 50%;}#sk-container-id-1 div.sk-parallel-item:last-child::after {align-self: flex-start;width: 50%;}#sk-container-id-1 div.sk-parallel-item:only-child::after {width: 0;}#sk-container-id-1 div.sk-dashed-wrapped {border: 1px dashed gray;margin: 0 0.4em 0.5em 0.4em;box-sizing: border-box;padding-bottom: 0.4em;background-color: white;}#sk-container-id-1 div.sk-label label {font-family: monospace;font-weight: bold;display: inline-block;line-height: 1.2em;}#sk-container-id-1 div.sk-label-container {text-align: center;}#sk-container-id-1 div.sk-container {/* jupyter's `normalize.less` sets `[hidden] { display: none; }` but bootstrap.min.css set `[hidden] { display: none !important; }` so we also need the `!important` here to be able to override the default hidden behavior on the sphinx rendered scikit-learn.org. See: https://github.com/scikit-learn/scikit-learn/issues/21755 */display: inline-block !important;position: relative;}#sk-container-id-1 div.sk-text-repr-fallback {display: none;}</style><div id=\"sk-container-id-1\" class=\"sk-top-container\"><div class=\"sk-text-repr-fallback\"><pre>LinearRegression()</pre><b>In a Jupyter environment, please rerun this cell to show the HTML representation or trust the notebook. <br />On GitHub, the HTML representation is unable to render, please try loading this page with nbviewer.org.</b></div><div class=\"sk-container\" hidden><div class=\"sk-item\"><div class=\"sk-estimator sk-toggleable\"><input class=\"sk-toggleable__control sk-hidden--visually\" id=\"sk-estimator-id-1\" type=\"checkbox\" checked><label for=\"sk-estimator-id-1\" class=\"sk-toggleable__label sk-toggleable__label-arrow\">LinearRegression</label><div class=\"sk-toggleable__content\"><pre>LinearRegression()</pre></div></div></div></div></div>"
            ]
          },
          "metadata": {},
          "execution_count": 17
        }
      ]
    },
    {
      "cell_type": "code",
      "source": [
        "# Make predictions on the test data\n",
        "y_pred = regression_model.predict(X_test)\n",
        "from sklearn.metrics import mean_absolute_error, mean_squared_error, r2_score\n",
        "\n",
        "# Calculate the mean squared error (MSE)\n",
        "mse = mean_squared_error(y_test, y_pred)\n",
        "\n",
        "# Calculate the R-squared (coefficient of determination) score\n",
        "r2 = r2_score(y_test, y_pred)\n",
        "\n",
        "print(\"Mean Squared Error:\", mse)\n",
        "print(\"R-squared:\", r2)"
      ],
      "metadata": {
        "colab": {
          "base_uri": "https://localhost:8080/"
        },
        "id": "0rx80tX5AbeF",
        "outputId": "74b0f1c2-98bf-44bf-ebe0-d79f7a2838aa"
      },
      "execution_count": 18,
      "outputs": [
        {
          "output_type": "stream",
          "name": "stdout",
          "text": [
            "Mean Squared Error: 282049924530.57935\n",
            "R-squared: -255046459703.62454\n"
          ]
        }
      ]
    },
    {
      "cell_type": "markdown",
      "source": [
        "**GRADIENT BOOSTING**"
      ],
      "metadata": {
        "id": "rvlPzy4R7CfL"
      }
    },
    {
      "cell_type": "code",
      "source": [
        "from sklearn.ensemble import GradientBoostingRegressor\n",
        "from sklearn.metrics import mean_squared_error, r2_score\n",
        "# Create a Gradient Boosting Regressor model\n",
        "gradient_boosting_model = GradientBoostingRegressor()\n",
        "\n",
        "# Train the model on the training data\n",
        "gradient_boosting_model.fit(X_train, y_train)\n",
        "\n",
        "# Make predictions on the test data\n",
        "y_pred = gradient_boosting_model.predict(X_test)\n",
        "\n",
        "# Calculate the mean squared error (MSE)\n",
        "mse = mean_squared_error(y_test, y_pred)\n",
        "\n",
        "# Calculate the R-squared (coefficient of determination) score\n",
        "r2 = r2_score(y_test, y_pred)\n",
        "\n",
        "print(\"Mean Squared Error:\", mse)\n",
        "print(\"R-squared:\", r2)"
      ],
      "metadata": {
        "colab": {
          "base_uri": "https://localhost:8080/"
        },
        "id": "EZJKaB4wA5VY",
        "outputId": "7b8c99d3-3b61-4d42-8abc-e1f52d1e1420"
      },
      "execution_count": 19,
      "outputs": [
        {
          "output_type": "stream",
          "name": "stdout",
          "text": [
            "Mean Squared Error: 0.1884835577215442\n",
            "R-squared: 0.8295618614703788\n"
          ]
        }
      ]
    },
    {
      "cell_type": "code",
      "source": [
        "#Calculate the mean absolute error (MAE)\n",
        "mae_gradient_boosting = mean_absolute_error(y_test, y_pred)\n",
        "mae_gradient_boosting"
      ],
      "metadata": {
        "colab": {
          "base_uri": "https://localhost:8080/"
        },
        "id": "lyLxX7-OuoSJ",
        "outputId": "4444e707-28e6-4fa6-9c83-d252bbad5474"
      },
      "execution_count": 20,
      "outputs": [
        {
          "output_type": "execute_result",
          "data": {
            "text/plain": [
              "0.1788211686847151"
            ]
          },
          "metadata": {},
          "execution_count": 20
        }
      ]
    },
    {
      "cell_type": "markdown",
      "source": [
        "**RANDOM FOREST**"
      ],
      "metadata": {
        "id": "m03-9Qno8HUu"
      }
    },
    {
      "cell_type": "code",
      "source": [
        "from sklearn.ensemble import RandomForestRegressor\n",
        "# Create a Random Forest Regressor model\n",
        "random_forest_model = RandomForestRegressor(n_estimators=100, random_state=42)\n",
        "# Train the model on the training data\n",
        "random_forest_model.fit(X_train, y_train)\n",
        "# Make predictions on the test data\n",
        "y_pred = random_forest_model.predict(X_test)\n",
        "\n",
        "# Calculate the mean squared error (MSE) on the test data\n",
        "mse = mean_squared_error(y_test, y_pred)\n",
        "\n",
        "# Calculate the R-squared (coefficient of determination) score on the test data\n",
        "r2 = r2_score(y_test, y_pred)\n",
        "\n",
        "print(\"Random Forest Model - Mean Squared Error:\", mse)\n",
        "print(\"Random Forest Model - R-squared:\", r2)"
      ],
      "metadata": {
        "colab": {
          "base_uri": "https://localhost:8080/"
        },
        "id": "bCD4gw6qBGq_",
        "outputId": "0ae94f01-a70e-441e-c96f-3f81e4335b6d"
      },
      "execution_count": 21,
      "outputs": [
        {
          "output_type": "stream",
          "name": "stdout",
          "text": [
            "Random Forest Model - Mean Squared Error: 0.14973450684413572\n",
            "Random Forest Model - R-squared: 0.8646010775228047\n"
          ]
        }
      ]
    },
    {
      "cell_type": "code",
      "source": [
        "#Calculate the mean absolute error (MAE)\n",
        "mae_random_forest = mean_absolute_error(y_test, y_pred)\n",
        "mae_random_forest"
      ],
      "metadata": {
        "colab": {
          "base_uri": "https://localhost:8080/"
        },
        "id": "2_tDIzUD7OaD",
        "outputId": "dbc57a23-7023-4424-8839-2febbd41f92c"
      },
      "execution_count": 22,
      "outputs": [
        {
          "output_type": "execute_result",
          "data": {
            "text/plain": [
              "0.10167038776004779"
            ]
          },
          "metadata": {},
          "execution_count": 22
        }
      ]
    },
    {
      "cell_type": "markdown",
      "source": [
        "# **ANN**"
      ],
      "metadata": {
        "id": "ZDJybyP63i3q"
      }
    },
    {
      "cell_type": "code",
      "source": [
        "import tensorflow as tf\n",
        "from tensorflow import keras\n",
        "from tensorflow.keras import layers"
      ],
      "metadata": {
        "id": "0MIVELMR3lcG"
      },
      "execution_count": 23,
      "outputs": []
    },
    {
      "cell_type": "code",
      "source": [
        "model = keras.Sequential([\n",
        "    layers.Input(shape=(X_train.shape[1],)),  # Input layer\n",
        "    layers.Dense(64, activation='relu'),      # Hidden layer 1\n",
        "    layers.Dense(32, activation='relu'),      # Hidden layer 2\n",
        "    layers.Dense(1)                           # Output layer\n",
        "])\n",
        "\n",
        "# Compile the model\n",
        "model.compile(optimizer='adam', loss='mean_squared_error')"
      ],
      "metadata": {
        "id": "yWRA0AMZ3sG4"
      },
      "execution_count": 24,
      "outputs": []
    },
    {
      "cell_type": "code",
      "source": [
        "# Train the model on the training data\n",
        "history = model.fit(X_train, y_train, epochs=50, batch_size=32, validation_split=0.2, verbose=1)\n"
      ],
      "metadata": {
        "colab": {
          "base_uri": "https://localhost:8080/"
        },
        "id": "13fMlHw53iPR",
        "outputId": "08fa7b8b-8226-4018-a9ff-4336769157ad"
      },
      "execution_count": 25,
      "outputs": [
        {
          "output_type": "stream",
          "name": "stdout",
          "text": [
            "Epoch 1/50\n",
            "3634/3634 [==============================] - 15s 4ms/step - loss: 0.0920 - val_loss: 0.1010\n",
            "Epoch 2/50\n",
            "3634/3634 [==============================] - 9s 2ms/step - loss: 0.0871 - val_loss: 0.0759\n",
            "Epoch 3/50\n",
            "3634/3634 [==============================] - 9s 2ms/step - loss: 0.0737 - val_loss: 0.0653\n",
            "Epoch 4/50\n",
            "3634/3634 [==============================] - 8s 2ms/step - loss: 0.0727 - val_loss: 0.1285\n",
            "Epoch 5/50\n",
            "3634/3634 [==============================] - 9s 2ms/step - loss: 0.0689 - val_loss: 0.0598\n",
            "Epoch 6/50\n",
            "3634/3634 [==============================] - 9s 2ms/step - loss: 0.0716 - val_loss: 0.0748\n",
            "Epoch 7/50\n",
            "3634/3634 [==============================] - 7s 2ms/step - loss: 0.0628 - val_loss: 0.0634\n",
            "Epoch 8/50\n",
            "3634/3634 [==============================] - 8s 2ms/step - loss: 0.0597 - val_loss: 0.0686\n",
            "Epoch 9/50\n",
            "3634/3634 [==============================] - 10s 3ms/step - loss: 0.0566 - val_loss: 0.0594\n",
            "Epoch 10/50\n",
            "3634/3634 [==============================] - 7s 2ms/step - loss: 0.0612 - val_loss: 0.0565\n",
            "Epoch 11/50\n",
            "3634/3634 [==============================] - 9s 2ms/step - loss: 0.0573 - val_loss: 0.0633\n",
            "Epoch 12/50\n",
            "3634/3634 [==============================] - 8s 2ms/step - loss: 0.0567 - val_loss: 0.0564\n",
            "Epoch 13/50\n",
            "3634/3634 [==============================] - 8s 2ms/step - loss: 0.0538 - val_loss: 0.0515\n",
            "Epoch 14/50\n",
            "3634/3634 [==============================] - 8s 2ms/step - loss: 0.0530 - val_loss: 0.0608\n",
            "Epoch 15/50\n",
            "3634/3634 [==============================] - 14s 4ms/step - loss: 0.0509 - val_loss: 0.0554\n",
            "Epoch 16/50\n",
            "3634/3634 [==============================] - 8s 2ms/step - loss: 0.0537 - val_loss: 0.0549\n",
            "Epoch 17/50\n",
            "3634/3634 [==============================] - 8s 2ms/step - loss: 0.0527 - val_loss: 0.0500\n",
            "Epoch 18/50\n",
            "3634/3634 [==============================] - 8s 2ms/step - loss: 0.0479 - val_loss: 0.0606\n",
            "Epoch 19/50\n",
            "3634/3634 [==============================] - 8s 2ms/step - loss: 0.0481 - val_loss: 0.0666\n",
            "Epoch 20/50\n",
            "3634/3634 [==============================] - 8s 2ms/step - loss: 0.0515 - val_loss: 0.0568\n",
            "Epoch 21/50\n",
            "3634/3634 [==============================] - 9s 2ms/step - loss: 0.0500 - val_loss: 0.0531\n",
            "Epoch 22/50\n",
            "3634/3634 [==============================] - 8s 2ms/step - loss: 0.0438 - val_loss: 0.0511\n",
            "Epoch 23/50\n",
            "3634/3634 [==============================] - 9s 3ms/step - loss: 0.0505 - val_loss: 0.0516\n",
            "Epoch 24/50\n",
            "3634/3634 [==============================] - 8s 2ms/step - loss: 0.0481 - val_loss: 0.0482\n",
            "Epoch 25/50\n",
            "3634/3634 [==============================] - 9s 2ms/step - loss: 0.0446 - val_loss: 0.0507\n",
            "Epoch 26/50\n",
            "3634/3634 [==============================] - 8s 2ms/step - loss: 0.0432 - val_loss: 0.0577\n",
            "Epoch 27/50\n",
            "3634/3634 [==============================] - 8s 2ms/step - loss: 0.0443 - val_loss: 0.0510\n",
            "Epoch 28/50\n",
            "3634/3634 [==============================] - 9s 2ms/step - loss: 0.0454 - val_loss: 0.0513\n",
            "Epoch 29/50\n",
            "3634/3634 [==============================] - 9s 2ms/step - loss: 0.0447 - val_loss: 0.0544\n",
            "Epoch 30/50\n",
            "3634/3634 [==============================] - 8s 2ms/step - loss: 0.0427 - val_loss: 0.0573\n",
            "Epoch 31/50\n",
            "3634/3634 [==============================] - 9s 2ms/step - loss: 0.0418 - val_loss: 0.0471\n",
            "Epoch 32/50\n",
            "3634/3634 [==============================] - 9s 3ms/step - loss: 0.0393 - val_loss: 0.0482\n",
            "Epoch 33/50\n",
            "3634/3634 [==============================] - 7s 2ms/step - loss: 0.0418 - val_loss: 0.0542\n",
            "Epoch 34/50\n",
            "3634/3634 [==============================] - 8s 2ms/step - loss: 0.0412 - val_loss: 0.0479\n",
            "Epoch 35/50\n",
            "3634/3634 [==============================] - 9s 3ms/step - loss: 0.0418 - val_loss: 0.0497\n",
            "Epoch 36/50\n",
            "3634/3634 [==============================] - 8s 2ms/step - loss: 0.0392 - val_loss: 0.0470\n",
            "Epoch 37/50\n",
            "3634/3634 [==============================] - 9s 2ms/step - loss: 0.0412 - val_loss: 0.0493\n",
            "Epoch 38/50\n",
            "3634/3634 [==============================] - 8s 2ms/step - loss: 0.0414 - val_loss: 0.0510\n",
            "Epoch 39/50\n",
            "3634/3634 [==============================] - 8s 2ms/step - loss: 0.0387 - val_loss: 0.0494\n",
            "Epoch 40/50\n",
            "3634/3634 [==============================] - 8s 2ms/step - loss: 0.0410 - val_loss: 0.0468\n",
            "Epoch 41/50\n",
            "3634/3634 [==============================] - 9s 3ms/step - loss: 0.0405 - val_loss: 0.0525\n",
            "Epoch 42/50\n",
            "3634/3634 [==============================] - 8s 2ms/step - loss: 0.0389 - val_loss: 0.0471\n",
            "Epoch 43/50\n",
            "3634/3634 [==============================] - 8s 2ms/step - loss: 0.0386 - val_loss: 0.0465\n",
            "Epoch 44/50\n",
            "3634/3634 [==============================] - 9s 3ms/step - loss: 0.0385 - val_loss: 0.0475\n",
            "Epoch 45/50\n",
            "3634/3634 [==============================] - 8s 2ms/step - loss: 0.0388 - val_loss: 0.0455\n",
            "Epoch 46/50\n",
            "3634/3634 [==============================] - 9s 2ms/step - loss: 0.0414 - val_loss: 0.0491\n",
            "Epoch 47/50\n",
            "3634/3634 [==============================] - 9s 3ms/step - loss: 0.0394 - val_loss: 0.0478\n",
            "Epoch 48/50\n",
            "3634/3634 [==============================] - 8s 2ms/step - loss: 0.0389 - val_loss: 0.0572\n",
            "Epoch 49/50\n",
            "3634/3634 [==============================] - 10s 3ms/step - loss: 0.0383 - val_loss: 0.0509\n",
            "Epoch 50/50\n",
            "3634/3634 [==============================] - 9s 2ms/step - loss: 0.0370 - val_loss: 0.0452\n"
          ]
        }
      ]
    },
    {
      "cell_type": "code",
      "source": [
        "# Evaluate the model on the test data\n",
        "loss = model.evaluate(X_test, y_test)\n",
        "print(\"Mean Squared Error on Test Data:\", loss)"
      ],
      "metadata": {
        "colab": {
          "base_uri": "https://localhost:8080/"
        },
        "id": "PiazASWT5Usq",
        "outputId": "041af6f0-67b6-4269-ec08-de1f70ab55da"
      },
      "execution_count": 26,
      "outputs": [
        {
          "output_type": "stream",
          "name": "stdout",
          "text": [
            "1136/1136 [==============================] - 2s 1ms/step - loss: 0.0496\n",
            "Mean Squared Error on Test Data: 0.049631137400865555\n"
          ]
        }
      ]
    },
    {
      "cell_type": "code",
      "source": [
        "from sklearn.metrics import r2_score\n",
        "\n",
        "# Predict the target variable using the trained ANN model\n",
        "y_pred_ann = model.predict(X_test)\n",
        "\n",
        "# Calculate the R-squared value\n",
        "r2_ann = r2_score(y_test, y_pred_ann)\n",
        "print(\"R-squared for ANN Model:\", r2_ann)\n"
      ],
      "metadata": {
        "colab": {
          "base_uri": "https://localhost:8080/"
        },
        "id": "Z6hYCW9f580d",
        "outputId": "55631583-6416-43d6-effe-b98ac35fcaa0"
      },
      "execution_count": 27,
      "outputs": [
        {
          "output_type": "stream",
          "name": "stdout",
          "text": [
            "1136/1136 [==============================] - 3s 2ms/step\n",
            "R-squared for ANN Model: 0.9551205585340258\n"
          ]
        }
      ]
    },
    {
      "cell_type": "code",
      "source": [
        "y_pred_ann"
      ],
      "metadata": {
        "colab": {
          "base_uri": "https://localhost:8080/"
        },
        "id": "JAau42NZ-3RU",
        "outputId": "e1c76f2c-4394-4fd4-a72f-2d810a9d1b97"
      },
      "execution_count": 28,
      "outputs": [
        {
          "output_type": "execute_result",
          "data": {
            "text/plain": [
              "array([[-0.70857686],\n",
              "       [-0.5368492 ],\n",
              "       [ 1.3975979 ],\n",
              "       ...,\n",
              "       [ 1.0378258 ],\n",
              "       [ 0.36253613],\n",
              "       [ 0.28424776]], dtype=float32)"
            ]
          },
          "metadata": {},
          "execution_count": 28
        }
      ]
    },
    {
      "cell_type": "code",
      "source": [
        "import matplotlib.pyplot as plt\n",
        "\n",
        "# Plot the training and validation loss over epochs\n",
        "plt.plot(history.history['loss'], label='Training Loss')\n",
        "plt.plot(history.history['val_loss'], label='Validation Loss')\n",
        "plt.xlabel('Epoch')\n",
        "plt.ylabel('Loss')\n",
        "plt.title('Training and Validation Loss Over Epochs')\n",
        "plt.legend()\n",
        "plt.show()"
      ],
      "metadata": {
        "colab": {
          "base_uri": "https://localhost:8080/",
          "height": 472
        },
        "id": "LRYnQIjL6spd",
        "outputId": "964df6cb-5fa1-4996-bfd4-a86be0d2ad86"
      },
      "execution_count": 29,
      "outputs": [
        {
          "output_type": "display_data",
          "data": {
            "text/plain": [
              "<Figure size 640x480 with 1 Axes>"
            ],
            "image/png": "[encoded data removed]"
          },
          "metadata": {}
        }
      ]
    },
    {
      "cell_type": "code",
      "source": [
        "# Select a sample from the test set for sensitivity analysis\n",
        "sample_index = 0\n",
        "sample_features = X_test.iloc[sample_index]\n",
        "\n",
        "# Get the predicted value for the selected sample\n",
        "original_prediction = model.predict(sample_features.values.reshape(1, -1))\n",
        "\n",
        "# Perform sensitivity analysis by perturbing each feature\n",
        "sensitivity_results = {}\n",
        "for feature in X.columns:\n",
        "    perturbed_features = sample_features.copy()\n",
        "    perturbed_features[feature] += 0.1  # Perturb the feature value\n",
        "    perturbed_prediction = model.predict(perturbed_features.values.reshape(1, -1))\n",
        "    sensitivity_results[feature] = perturbed_prediction - original_prediction"
      ],
      "metadata": {
        "colab": {
          "base_uri": "https://localhost:8080/"
        },
        "id": "WZ7Bx1MMB-Zd",
        "outputId": "8be37c0b-3d73-47ae-8b06-0b72250f9eb5"
      },
      "execution_count": 30,
      "outputs": [
        {
          "output_type": "stream",
          "name": "stdout",
          "text": [
            "1/1 [==============================] - 0s 89ms/step\n",
            "1/1 [==============================] - 0s 32ms/step\n",
            "1/1 [==============================] - 0s 32ms/step\n",
            "1/1 [==============================] - 0s 32ms/step\n",
            "1/1 [==============================] - 0s 47ms/step\n",
            "1/1 [==============================] - 0s 36ms/step\n",
            "1/1 [==============================] - 0s 48ms/step\n",
            "1/1 [==============================] - 0s 37ms/step\n",
            "1/1 [==============================] - 0s 36ms/step\n",
            "1/1 [==============================] - 0s 33ms/step\n",
            "1/1 [==============================] - 0s 45ms/step\n",
            "1/1 [==============================] - 0s 33ms/step\n",
            "1/1 [==============================] - 0s 33ms/step\n",
            "1/1 [==============================] - 0s 37ms/step\n",
            "1/1 [==============================] - 0s 34ms/step\n",
            "1/1 [==============================] - 0s 32ms/step\n",
            "1/1 [==============================] - 0s 34ms/step\n",
            "1/1 [==============================] - 0s 42ms/step\n",
            "1/1 [==============================] - 0s 24ms/step\n",
            "1/1 [==============================] - 0s 23ms/step\n",
            "1/1 [==============================] - 0s 23ms/step\n",
            "1/1 [==============================] - 0s 22ms/step\n",
            "1/1 [==============================] - 0s 22ms/step\n",
            "1/1 [==============================] - 0s 23ms/step\n",
            "1/1 [==============================] - 0s 28ms/step\n",
            "1/1 [==============================] - 0s 23ms/step\n",
            "1/1 [==============================] - 0s 24ms/step\n",
            "1/1 [==============================] - 0s 22ms/step\n",
            "1/1 [==============================] - 0s 22ms/step\n",
            "1/1 [==============================] - 0s 24ms/step\n",
            "1/1 [==============================] - 0s 26ms/step\n",
            "1/1 [==============================] - 0s 47ms/step\n",
            "1/1 [==============================] - 0s 28ms/step\n",
            "1/1 [==============================] - 0s 22ms/step\n",
            "1/1 [==============================] - 0s 21ms/step\n",
            "1/1 [==============================] - 0s 21ms/step\n",
            "1/1 [==============================] - 0s 30ms/step\n",
            "1/1 [==============================] - 0s 23ms/step\n",
            "1/1 [==============================] - 0s 27ms/step\n",
            "1/1 [==============================] - 0s 21ms/step\n",
            "1/1 [==============================] - 0s 22ms/step\n",
            "1/1 [==============================] - 0s 22ms/step\n",
            "1/1 [==============================] - 0s 24ms/step\n",
            "1/1 [==============================] - 0s 21ms/step\n",
            "1/1 [==============================] - 0s 23ms/step\n",
            "1/1 [==============================] - 0s 22ms/step\n",
            "1/1 [==============================] - 0s 25ms/step\n",
            "1/1 [==============================] - 0s 23ms/step\n",
            "1/1 [==============================] - 0s 23ms/step\n",
            "1/1 [==============================] - 0s 22ms/step\n",
            "1/1 [==============================] - 0s 22ms/step\n",
            "1/1 [==============================] - 0s 22ms/step\n",
            "1/1 [==============================] - 0s 24ms/step\n",
            "1/1 [==============================] - 0s 22ms/step\n",
            "1/1 [==============================] - 0s 26ms/step\n",
            "1/1 [==============================] - 0s 26ms/step\n",
            "1/1 [==============================] - 0s 22ms/step\n",
            "1/1 [==============================] - 0s 23ms/step\n",
            "1/1 [==============================] - 0s 23ms/step\n",
            "1/1 [==============================] - 0s 22ms/step\n",
            "1/1 [==============================] - 0s 22ms/step\n",
            "1/1 [==============================] - 0s 23ms/step\n",
            "1/1 [==============================] - 0s 26ms/step\n",
            "1/1 [==============================] - 0s 25ms/step\n",
            "1/1 [==============================] - 0s 23ms/step\n",
            "1/1 [==============================] - 0s 23ms/step\n",
            "1/1 [==============================] - 0s 22ms/step\n",
            "1/1 [==============================] - 0s 21ms/step\n",
            "1/1 [==============================] - 0s 22ms/step\n",
            "1/1 [==============================] - 0s 23ms/step\n",
            "1/1 [==============================] - 0s 25ms/step\n",
            "1/1 [==============================] - 0s 27ms/step\n",
            "1/1 [==============================] - 0s 29ms/step\n",
            "1/1 [==============================] - 0s 27ms/step\n",
            "1/1 [==============================] - 0s 23ms/step\n",
            "1/1 [==============================] - 0s 22ms/step\n",
            "1/1 [==============================] - 0s 21ms/step\n",
            "1/1 [==============================] - 0s 22ms/step\n",
            "1/1 [==============================] - 0s 21ms/step\n",
            "1/1 [==============================] - 0s 23ms/step\n",
            "1/1 [==============================] - 0s 24ms/step\n",
            "1/1 [==============================] - 0s 26ms/step\n",
            "1/1 [==============================] - 0s 24ms/step\n",
            "1/1 [==============================] - 0s 25ms/step\n",
            "1/1 [==============================] - 0s 23ms/step\n",
            "1/1 [==============================] - 0s 22ms/step\n",
            "1/1 [==============================] - 0s 23ms/step\n",
            "1/1 [==============================] - 0s 29ms/step\n",
            "1/1 [==============================] - 0s 24ms/step\n",
            "1/1 [==============================] - 0s 23ms/step\n",
            "1/1 [==============================] - 0s 25ms/step\n",
            "1/1 [==============================] - 0s 23ms/step\n",
            "1/1 [==============================] - 0s 25ms/step\n",
            "1/1 [==============================] - 0s 33ms/step\n",
            "1/1 [==============================] - 0s 23ms/step\n",
            "1/1 [==============================] - 0s 22ms/step\n",
            "1/1 [==============================] - 0s 27ms/step\n",
            "1/1 [==============================] - 0s 30ms/step\n",
            "1/1 [==============================] - 0s 26ms/step\n",
            "1/1 [==============================] - 0s 30ms/step\n",
            "1/1 [==============================] - 0s 25ms/step\n",
            "1/1 [==============================] - 0s 25ms/step\n"
          ]
        }
      ]
    },
    {
      "cell_type": "code",
      "source": [
        "# Create a DataFrame to store sensitivity results\n",
        "sensitivity_df = pd.DataFrame(columns=['Feature', 'Sensitivity'])\n",
        "\n",
        "# Select a sample from the test set for sensitivity analysis\n",
        "sample_index = 0\n",
        "sample_features = X_test.iloc[sample_index]\n",
        "\n",
        "# Get the predicted value for the selected sample\n",
        "original_prediction = model.predict(sample_features.values.reshape(1, -1))\n",
        "\n",
        "# Perform sensitivity analysis by perturbing each feature\n",
        "for feature in X.columns:\n",
        "    perturbed_features = sample_features.copy()\n",
        "    perturbed_features[feature] += 0.1  # Perturb the feature value\n",
        "    perturbed_prediction = model.predict(perturbed_features.values.reshape(1, -1))\n",
        "    sensitivity = perturbed_prediction - original_prediction\n",
        "    sensitivity_df = sensitivity_df.append({'Feature': feature, 'Sensitivity': sensitivity[0][0]}, ignore_index=True)\n",
        "\n",
        "# Sort the DataFrame by sensitivity\n",
        "sensitivity_df = sensitivity_df.sort_values(by='Sensitivity', ascending=False)\n",
        "\n",
        "# Print or display the sensitivity results table\n",
        "sensitivity_df\n"
      ],
      "metadata": {
        "colab": {
          "base_uri": "https://localhost:8080/",
          "height": 1000
        },
        "id": "5U9k6K5N9Nd_",
        "outputId": "e777490c-8865-4bc6-b0a3-229894a04a22"
      },
      "execution_count": 31,
      "outputs": [
        {
          "output_type": "stream",
          "name": "stdout",
          "text": [
            "1/1 [==============================] - 0s 23ms/step\n",
            "1/1 [==============================] - 0s 21ms/step\n",
            "1/1 [==============================] - 0s 24ms/step\n",
            "1/1 [==============================] - 0s 22ms/step\n"
          ]
        },
        {
          "output_type": "stream",
          "name": "stderr",
          "text": [
            "<ipython-input-31-ba24669a4e7b>:17: FutureWarning: The frame.append method is deprecated and will be removed from pandas in a future version. Use pandas.concat instead.\n",
            "  sensitivity_df = sensitivity_df.append({'Feature': feature, 'Sensitivity': sensitivity[0][0]}, ignore_index=True)\n",
            "<ipython-input-31-ba24669a4e7b>:17: FutureWarning: The frame.append method is deprecated and will be removed from pandas in a future version. Use pandas.concat instead.\n",
            "  sensitivity_df = sensitivity_df.append({'Feature': feature, 'Sensitivity': sensitivity[0][0]}, ignore_index=True)\n",
            "<ipython-input-31-ba24669a4e7b>:17: FutureWarning: The frame.append method is deprecated and will be removed from pandas in a future version. Use pandas.concat instead.\n",
            "  sensitivity_df = sensitivity_df.append({'Feature': feature, 'Sensitivity': sensitivity[0][0]}, ignore_index=True)\n"
          ]
        },
        {
          "output_type": "stream",
          "name": "stdout",
          "text": [
            "1/1 [==============================] - 0s 26ms/step\n",
            "1/1 [==============================] - 0s 22ms/step\n",
            "1/1 [==============================] - 0s 23ms/step\n"
          ]
        },
        {
          "output_type": "stream",
          "name": "stderr",
          "text": [
            "<ipython-input-31-ba24669a4e7b>:17: FutureWarning: The frame.append method is deprecated and will be removed from pandas in a future version. Use pandas.concat instead.\n",
            "  sensitivity_df = sensitivity_df.append({'Feature': feature, 'Sensitivity': sensitivity[0][0]}, ignore_index=True)\n",
            "<ipython-input-31-ba24669a4e7b>:17: FutureWarning: The frame.append method is deprecated and will be removed from pandas in a future version. Use pandas.concat instead.\n",
            "  sensitivity_df = sensitivity_df.append({'Feature': feature, 'Sensitivity': sensitivity[0][0]}, ignore_index=True)\n",
            "<ipython-input-31-ba24669a4e7b>:17: FutureWarning: The frame.append method is deprecated and will be removed from pandas in a future version. Use pandas.concat instead.\n",
            "  sensitivity_df = sensitivity_df.append({'Feature': feature, 'Sensitivity': sensitivity[0][0]}, ignore_index=True)\n"
          ]
        },
        {
          "output_type": "stream",
          "name": "stdout",
          "text": [
            "1/1 [==============================] - 0s 38ms/step\n",
            "1/1 [==============================] - 0s 22ms/step\n",
            "1/1 [==============================] - 0s 20ms/step\n"
          ]
        },
        {
          "output_type": "stream",
          "name": "stderr",
          "text": [
            "<ipython-input-31-ba24669a4e7b>:17: FutureWarning: The frame.append method is deprecated and will be removed from pandas in a future version. Use pandas.concat instead.\n",
            "  sensitivity_df = sensitivity_df.append({'Feature': feature, 'Sensitivity': sensitivity[0][0]}, ignore_index=True)\n",
            "<ipython-input-31-ba24669a4e7b>:17: FutureWarning: The frame.append method is deprecated and will be removed from pandas in a future version. Use pandas.concat instead.\n",
            "  sensitivity_df = sensitivity_df.append({'Feature': feature, 'Sensitivity': sensitivity[0][0]}, ignore_index=True)\n",
            "<ipython-input-31-ba24669a4e7b>:17: FutureWarning: The frame.append method is deprecated and will be removed from pandas in a future version. Use pandas.concat instead.\n",
            "  sensitivity_df = sensitivity_df.append({'Feature': feature, 'Sensitivity': sensitivity[0][0]}, ignore_index=True)\n"
          ]
        },
        {
          "output_type": "stream",
          "name": "stdout",
          "text": [
            "1/1 [==============================] - 0s 28ms/step\n",
            "1/1 [==============================] - 0s 23ms/step\n",
            "1/1 [==============================] - 0s 23ms/step\n"
          ]
        },
        {
          "output_type": "stream",
          "name": "stderr",
          "text": [
            "<ipython-input-31-ba24669a4e7b>:17: FutureWarning: The frame.append method is deprecated and will be removed from pandas in a future version. Use pandas.concat instead.\n",
            "  sensitivity_df = sensitivity_df.append({'Feature': feature, 'Sensitivity': sensitivity[0][0]}, ignore_index=True)\n",
            "<ipython-input-31-ba24669a4e7b>:17: FutureWarning: The frame.append method is deprecated and will be removed from pandas in a future version. Use pandas.concat instead.\n",
            "  sensitivity_df = sensitivity_df.append({'Feature': feature, 'Sensitivity': sensitivity[0][0]}, ignore_index=True)\n",
            "<ipython-input-31-ba24669a4e7b>:17: FutureWarning: The frame.append method is deprecated and will be removed from pandas in a future version. Use pandas.concat instead.\n",
            "  sensitivity_df = sensitivity_df.append({'Feature': feature, 'Sensitivity': sensitivity[0][0]}, ignore_index=True)\n"
          ]
        },
        {
          "output_type": "stream",
          "name": "stdout",
          "text": [
            "1/1 [==============================] - 0s 25ms/step\n",
            "1/1 [==============================] - 0s 23ms/step\n",
            "1/1 [==============================] - 0s 22ms/step\n"
          ]
        },
        {
          "output_type": "stream",
          "name": "stderr",
          "text": [
            "<ipython-input-31-ba24669a4e7b>:17: FutureWarning: The frame.append method is deprecated and will be removed from pandas in a future version. Use pandas.concat instead.\n",
            "  sensitivity_df = sensitivity_df.append({'Feature': feature, 'Sensitivity': sensitivity[0][0]}, ignore_index=True)\n",
            "<ipython-input-31-ba24669a4e7b>:17: FutureWarning: The frame.append method is deprecated and will be removed from pandas in a future version. Use pandas.concat instead.\n",
            "  sensitivity_df = sensitivity_df.append({'Feature': feature, 'Sensitivity': sensitivity[0][0]}, ignore_index=True)\n",
            "<ipython-input-31-ba24669a4e7b>:17: FutureWarning: The frame.append method is deprecated and will be removed from pandas in a future version. Use pandas.concat instead.\n",
            "  sensitivity_df = sensitivity_df.append({'Feature': feature, 'Sensitivity': sensitivity[0][0]}, ignore_index=True)\n"
          ]
        },
        {
          "output_type": "stream",
          "name": "stdout",
          "text": [
            "1/1 [==============================] - 0s 29ms/step\n",
            "1/1 [==============================] - 0s 27ms/step\n",
            "1/1 [==============================] - 0s 37ms/step\n"
          ]
        },
        {
          "output_type": "stream",
          "name": "stderr",
          "text": [
            "<ipython-input-31-ba24669a4e7b>:17: FutureWarning: The frame.append method is deprecated and will be removed from pandas in a future version. Use pandas.concat instead.\n",
            "  sensitivity_df = sensitivity_df.append({'Feature': feature, 'Sensitivity': sensitivity[0][0]}, ignore_index=True)\n",
            "<ipython-input-31-ba24669a4e7b>:17: FutureWarning: The frame.append method is deprecated and will be removed from pandas in a future version. Use pandas.concat instead.\n",
            "  sensitivity_df = sensitivity_df.append({'Feature': feature, 'Sensitivity': sensitivity[0][0]}, ignore_index=True)\n",
            "<ipython-input-31-ba24669a4e7b>:17: FutureWarning: The frame.append method is deprecated and will be removed from pandas in a future version. Use pandas.concat instead.\n",
            "  sensitivity_df = sensitivity_df.append({'Feature': feature, 'Sensitivity': sensitivity[0][0]}, ignore_index=True)\n"
          ]
        },
        {
          "output_type": "stream",
          "name": "stdout",
          "text": [
            "1/1 [==============================] - 0s 52ms/step\n",
            "1/1 [==============================] - 0s 33ms/step\n",
            "1/1 [==============================] - 0s 32ms/step\n"
          ]
        },
        {
          "output_type": "stream",
          "name": "stderr",
          "text": [
            "<ipython-input-31-ba24669a4e7b>:17: FutureWarning: The frame.append method is deprecated and will be removed from pandas in a future version. Use pandas.concat instead.\n",
            "  sensitivity_df = sensitivity_df.append({'Feature': feature, 'Sensitivity': sensitivity[0][0]}, ignore_index=True)\n",
            "<ipython-input-31-ba24669a4e7b>:17: FutureWarning: The frame.append method is deprecated and will be removed from pandas in a future version. Use pandas.concat instead.\n",
            "  sensitivity_df = sensitivity_df.append({'Feature': feature, 'Sensitivity': sensitivity[0][0]}, ignore_index=True)\n"
          ]
        },
        {
          "output_type": "stream",
          "name": "stdout",
          "text": [
            "1/1 [==============================] - 0s 31ms/step\n",
            "1/1 [==============================] - 0s 34ms/step\n"
          ]
        },
        {
          "output_type": "stream",
          "name": "stderr",
          "text": [
            "<ipython-input-31-ba24669a4e7b>:17: FutureWarning: The frame.append method is deprecated and will be removed from pandas in a future version. Use pandas.concat instead.\n",
            "  sensitivity_df = sensitivity_df.append({'Feature': feature, 'Sensitivity': sensitivity[0][0]}, ignore_index=True)\n",
            "<ipython-input-31-ba24669a4e7b>:17: FutureWarning: The frame.append method is deprecated and will be removed from pandas in a future version. Use pandas.concat instead.\n",
            "  sensitivity_df = sensitivity_df.append({'Feature': feature, 'Sensitivity': sensitivity[0][0]}, ignore_index=True)\n"
          ]
        },
        {
          "output_type": "stream",
          "name": "stdout",
          "text": [
            "1/1 [==============================] - 0s 37ms/step\n"
          ]
        },
        {
          "output_type": "stream",
          "name": "stderr",
          "text": [
            "<ipython-input-31-ba24669a4e7b>:17: FutureWarning: The frame.append method is deprecated and will be removed from pandas in a future version. Use pandas.concat instead.\n",
            "  sensitivity_df = sensitivity_df.append({'Feature': feature, 'Sensitivity': sensitivity[0][0]}, ignore_index=True)\n",
            "<ipython-input-31-ba24669a4e7b>:17: FutureWarning: The frame.append method is deprecated and will be removed from pandas in a future version. Use pandas.concat instead.\n",
            "  sensitivity_df = sensitivity_df.append({'Feature': feature, 'Sensitivity': sensitivity[0][0]}, ignore_index=True)\n"
          ]
        },
        {
          "output_type": "stream",
          "name": "stdout",
          "text": [
            "1/1 [==============================] - 0s 49ms/step\n",
            "1/1 [==============================] - 0s 33ms/step\n",
            "1/1 [==============================] - 0s 30ms/step\n"
          ]
        },
        {
          "output_type": "stream",
          "name": "stderr",
          "text": [
            "<ipython-input-31-ba24669a4e7b>:17: FutureWarning: The frame.append method is deprecated and will be removed from pandas in a future version. Use pandas.concat instead.\n",
            "  sensitivity_df = sensitivity_df.append({'Feature': feature, 'Sensitivity': sensitivity[0][0]}, ignore_index=True)\n",
            "<ipython-input-31-ba24669a4e7b>:17: FutureWarning: The frame.append method is deprecated and will be removed from pandas in a future version. Use pandas.concat instead.\n",
            "  sensitivity_df = sensitivity_df.append({'Feature': feature, 'Sensitivity': sensitivity[0][0]}, ignore_index=True)\n"
          ]
        },
        {
          "output_type": "stream",
          "name": "stdout",
          "text": [
            "1/1 [==============================] - 0s 34ms/step\n"
          ]
        },
        {
          "output_type": "stream",
          "name": "stderr",
          "text": [
            "<ipython-input-31-ba24669a4e7b>:17: FutureWarning: The frame.append method is deprecated and will be removed from pandas in a future version. Use pandas.concat instead.\n",
            "  sensitivity_df = sensitivity_df.append({'Feature': feature, 'Sensitivity': sensitivity[0][0]}, ignore_index=True)\n",
            "<ipython-input-31-ba24669a4e7b>:17: FutureWarning: The frame.append method is deprecated and will be removed from pandas in a future version. Use pandas.concat instead.\n",
            "  sensitivity_df = sensitivity_df.append({'Feature': feature, 'Sensitivity': sensitivity[0][0]}, ignore_index=True)\n"
          ]
        },
        {
          "output_type": "stream",
          "name": "stdout",
          "text": [
            "1/1 [==============================] - 0s 41ms/step\n",
            "1/1 [==============================] - 0s 35ms/step\n"
          ]
        },
        {
          "output_type": "stream",
          "name": "stderr",
          "text": [
            "<ipython-input-31-ba24669a4e7b>:17: FutureWarning: The frame.append method is deprecated and will be removed from pandas in a future version. Use pandas.concat instead.\n",
            "  sensitivity_df = sensitivity_df.append({'Feature': feature, 'Sensitivity': sensitivity[0][0]}, ignore_index=True)\n",
            "<ipython-input-31-ba24669a4e7b>:17: FutureWarning: The frame.append method is deprecated and will be removed from pandas in a future version. Use pandas.concat instead.\n",
            "  sensitivity_df = sensitivity_df.append({'Feature': feature, 'Sensitivity': sensitivity[0][0]}, ignore_index=True)\n"
          ]
        },
        {
          "output_type": "stream",
          "name": "stdout",
          "text": [
            "1/1 [==============================] - 0s 55ms/step\n",
            "1/1 [==============================] - 0s 33ms/step\n",
            "1/1 [==============================] - 0s 32ms/step\n"
          ]
        },
        {
          "output_type": "stream",
          "name": "stderr",
          "text": [
            "<ipython-input-31-ba24669a4e7b>:17: FutureWarning: The frame.append method is deprecated and will be removed from pandas in a future version. Use pandas.concat instead.\n",
            "  sensitivity_df = sensitivity_df.append({'Feature': feature, 'Sensitivity': sensitivity[0][0]}, ignore_index=True)\n",
            "<ipython-input-31-ba24669a4e7b>:17: FutureWarning: The frame.append method is deprecated and will be removed from pandas in a future version. Use pandas.concat instead.\n",
            "  sensitivity_df = sensitivity_df.append({'Feature': feature, 'Sensitivity': sensitivity[0][0]}, ignore_index=True)\n",
            "<ipython-input-31-ba24669a4e7b>:17: FutureWarning: The frame.append method is deprecated and will be removed from pandas in a future version. Use pandas.concat instead.\n",
            "  sensitivity_df = sensitivity_df.append({'Feature': feature, 'Sensitivity': sensitivity[0][0]}, ignore_index=True)\n"
          ]
        },
        {
          "output_type": "stream",
          "name": "stdout",
          "text": [
            "1/1 [==============================] - 0s 32ms/step\n",
            "1/1 [==============================] - 0s 31ms/step\n",
            "1/1 [==============================] - 0s 37ms/step\n"
          ]
        },
        {
          "output_type": "stream",
          "name": "stderr",
          "text": [
            "<ipython-input-31-ba24669a4e7b>:17: FutureWarning: The frame.append method is deprecated and will be removed from pandas in a future version. Use pandas.concat instead.\n",
            "  sensitivity_df = sensitivity_df.append({'Feature': feature, 'Sensitivity': sensitivity[0][0]}, ignore_index=True)\n",
            "<ipython-input-31-ba24669a4e7b>:17: FutureWarning: The frame.append method is deprecated and will be removed from pandas in a future version. Use pandas.concat instead.\n",
            "  sensitivity_df = sensitivity_df.append({'Feature': feature, 'Sensitivity': sensitivity[0][0]}, ignore_index=True)\n"
          ]
        },
        {
          "output_type": "stream",
          "name": "stdout",
          "text": [
            "1/1 [==============================] - 0s 33ms/step\n",
            "1/1 [==============================] - 0s 36ms/step\n"
          ]
        },
        {
          "output_type": "stream",
          "name": "stderr",
          "text": [
            "<ipython-input-31-ba24669a4e7b>:17: FutureWarning: The frame.append method is deprecated and will be removed from pandas in a future version. Use pandas.concat instead.\n",
            "  sensitivity_df = sensitivity_df.append({'Feature': feature, 'Sensitivity': sensitivity[0][0]}, ignore_index=True)\n",
            "<ipython-input-31-ba24669a4e7b>:17: FutureWarning: The frame.append method is deprecated and will be removed from pandas in a future version. Use pandas.concat instead.\n",
            "  sensitivity_df = sensitivity_df.append({'Feature': feature, 'Sensitivity': sensitivity[0][0]}, ignore_index=True)\n",
            "<ipython-input-31-ba24669a4e7b>:17: FutureWarning: The frame.append method is deprecated and will be removed from pandas in a future version. Use pandas.concat instead.\n",
            "  sensitivity_df = sensitivity_df.append({'Feature': feature, 'Sensitivity': sensitivity[0][0]}, ignore_index=True)\n"
          ]
        },
        {
          "output_type": "stream",
          "name": "stdout",
          "text": [
            "1/1 [==============================] - 0s 33ms/step\n",
            "1/1 [==============================] - 0s 36ms/step\n",
            "1/1 [==============================] - 0s 23ms/step\n"
          ]
        },
        {
          "output_type": "stream",
          "name": "stderr",
          "text": [
            "<ipython-input-31-ba24669a4e7b>:17: FutureWarning: The frame.append method is deprecated and will be removed from pandas in a future version. Use pandas.concat instead.\n",
            "  sensitivity_df = sensitivity_df.append({'Feature': feature, 'Sensitivity': sensitivity[0][0]}, ignore_index=True)\n",
            "<ipython-input-31-ba24669a4e7b>:17: FutureWarning: The frame.append method is deprecated and will be removed from pandas in a future version. Use pandas.concat instead.\n",
            "  sensitivity_df = sensitivity_df.append({'Feature': feature, 'Sensitivity': sensitivity[0][0]}, ignore_index=True)\n"
          ]
        },
        {
          "output_type": "stream",
          "name": "stdout",
          "text": [
            "1/1 [==============================] - 0s 21ms/step\n",
            "1/1 [==============================] - 0s 22ms/step\n",
            "1/1 [==============================] - 0s 26ms/step\n"
          ]
        },
        {
          "output_type": "stream",
          "name": "stderr",
          "text": [
            "<ipython-input-31-ba24669a4e7b>:17: FutureWarning: The frame.append method is deprecated and will be removed from pandas in a future version. Use pandas.concat instead.\n",
            "  sensitivity_df = sensitivity_df.append({'Feature': feature, 'Sensitivity': sensitivity[0][0]}, ignore_index=True)\n",
            "<ipython-input-31-ba24669a4e7b>:17: FutureWarning: The frame.append method is deprecated and will be removed from pandas in a future version. Use pandas.concat instead.\n",
            "  sensitivity_df = sensitivity_df.append({'Feature': feature, 'Sensitivity': sensitivity[0][0]}, ignore_index=True)\n",
            "<ipython-input-31-ba24669a4e7b>:17: FutureWarning: The frame.append method is deprecated and will be removed from pandas in a future version. Use pandas.concat instead.\n",
            "  sensitivity_df = sensitivity_df.append({'Feature': feature, 'Sensitivity': sensitivity[0][0]}, ignore_index=True)\n"
          ]
        },
        {
          "output_type": "stream",
          "name": "stdout",
          "text": [
            "1/1 [==============================] - 0s 21ms/step\n",
            "1/1 [==============================] - 0s 21ms/step\n",
            "1/1 [==============================] - ETA: 0s"
          ]
        },
        {
          "output_type": "stream",
          "name": "stderr",
          "text": [
            "<ipython-input-31-ba24669a4e7b>:17: FutureWarning: The frame.append method is deprecated and will be removed from pandas in a future version. Use pandas.concat instead.\n",
            "  sensitivity_df = sensitivity_df.append({'Feature': feature, 'Sensitivity': sensitivity[0][0]}, ignore_index=True)\n",
            "<ipython-input-31-ba24669a4e7b>:17: FutureWarning: The frame.append method is deprecated and will be removed from pandas in a future version. Use pandas.concat instead.\n",
            "  sensitivity_df = sensitivity_df.append({'Feature': feature, 'Sensitivity': sensitivity[0][0]}, ignore_index=True)\n",
            "<ipython-input-31-ba24669a4e7b>:17: FutureWarning: The frame.append method is deprecated and will be removed from pandas in a future version. Use pandas.concat instead.\n",
            "  sensitivity_df = sensitivity_df.append({'Feature': feature, 'Sensitivity': sensitivity[0][0]}, ignore_index=True)\n"
          ]
        },
        {
          "output_type": "stream",
          "name": "stdout",
          "text": [
            "1/1 [==============================] - 0s 23ms/step\n",
            "1/1 [==============================] - 0s 21ms/step\n",
            "1/1 [==============================] - 0s 24ms/step\n"
          ]
        },
        {
          "output_type": "stream",
          "name": "stderr",
          "text": [
            "<ipython-input-31-ba24669a4e7b>:17: FutureWarning: The frame.append method is deprecated and will be removed from pandas in a future version. Use pandas.concat instead.\n",
            "  sensitivity_df = sensitivity_df.append({'Feature': feature, 'Sensitivity': sensitivity[0][0]}, ignore_index=True)\n",
            "<ipython-input-31-ba24669a4e7b>:17: FutureWarning: The frame.append method is deprecated and will be removed from pandas in a future version. Use pandas.concat instead.\n",
            "  sensitivity_df = sensitivity_df.append({'Feature': feature, 'Sensitivity': sensitivity[0][0]}, ignore_index=True)\n",
            "<ipython-input-31-ba24669a4e7b>:17: FutureWarning: The frame.append method is deprecated and will be removed from pandas in a future version. Use pandas.concat instead.\n",
            "  sensitivity_df = sensitivity_df.append({'Feature': feature, 'Sensitivity': sensitivity[0][0]}, ignore_index=True)\n"
          ]
        },
        {
          "output_type": "stream",
          "name": "stdout",
          "text": [
            "1/1 [==============================] - 0s 25ms/step\n",
            "1/1 [==============================] - 0s 28ms/step\n",
            "1/1 [==============================] - 0s 26ms/step\n"
          ]
        },
        {
          "output_type": "stream",
          "name": "stderr",
          "text": [
            "<ipython-input-31-ba24669a4e7b>:17: FutureWarning: The frame.append method is deprecated and will be removed from pandas in a future version. Use pandas.concat instead.\n",
            "  sensitivity_df = sensitivity_df.append({'Feature': feature, 'Sensitivity': sensitivity[0][0]}, ignore_index=True)\n",
            "<ipython-input-31-ba24669a4e7b>:17: FutureWarning: The frame.append method is deprecated and will be removed from pandas in a future version. Use pandas.concat instead.\n",
            "  sensitivity_df = sensitivity_df.append({'Feature': feature, 'Sensitivity': sensitivity[0][0]}, ignore_index=True)\n",
            "<ipython-input-31-ba24669a4e7b>:17: FutureWarning: The frame.append method is deprecated and will be removed from pandas in a future version. Use pandas.concat instead.\n",
            "  sensitivity_df = sensitivity_df.append({'Feature': feature, 'Sensitivity': sensitivity[0][0]}, ignore_index=True)\n"
          ]
        },
        {
          "output_type": "stream",
          "name": "stdout",
          "text": [
            "1/1 [==============================] - 0s 26ms/step\n",
            "1/1 [==============================] - 0s 22ms/step\n",
            "1/1 [==============================] - 0s 23ms/step\n"
          ]
        },
        {
          "output_type": "stream",
          "name": "stderr",
          "text": [
            "<ipython-input-31-ba24669a4e7b>:17: FutureWarning: The frame.append method is deprecated and will be removed from pandas in a future version. Use pandas.concat instead.\n",
            "  sensitivity_df = sensitivity_df.append({'Feature': feature, 'Sensitivity': sensitivity[0][0]}, ignore_index=True)\n",
            "<ipython-input-31-ba24669a4e7b>:17: FutureWarning: The frame.append method is deprecated and will be removed from pandas in a future version. Use pandas.concat instead.\n",
            "  sensitivity_df = sensitivity_df.append({'Feature': feature, 'Sensitivity': sensitivity[0][0]}, ignore_index=True)\n",
            "<ipython-input-31-ba24669a4e7b>:17: FutureWarning: The frame.append method is deprecated and will be removed from pandas in a future version. Use pandas.concat instead.\n",
            "  sensitivity_df = sensitivity_df.append({'Feature': feature, 'Sensitivity': sensitivity[0][0]}, ignore_index=True)\n"
          ]
        },
        {
          "output_type": "stream",
          "name": "stdout",
          "text": [
            "1/1 [==============================] - 0s 39ms/step\n",
            "1/1 [==============================] - 0s 23ms/step\n",
            "1/1 [==============================] - 0s 24ms/step\n"
          ]
        },
        {
          "output_type": "stream",
          "name": "stderr",
          "text": [
            "<ipython-input-31-ba24669a4e7b>:17: FutureWarning: The frame.append method is deprecated and will be removed from pandas in a future version. Use pandas.concat instead.\n",
            "  sensitivity_df = sensitivity_df.append({'Feature': feature, 'Sensitivity': sensitivity[0][0]}, ignore_index=True)\n",
            "<ipython-input-31-ba24669a4e7b>:17: FutureWarning: The frame.append method is deprecated and will be removed from pandas in a future version. Use pandas.concat instead.\n",
            "  sensitivity_df = sensitivity_df.append({'Feature': feature, 'Sensitivity': sensitivity[0][0]}, ignore_index=True)\n",
            "<ipython-input-31-ba24669a4e7b>:17: FutureWarning: The frame.append method is deprecated and will be removed from pandas in a future version. Use pandas.concat instead.\n",
            "  sensitivity_df = sensitivity_df.append({'Feature': feature, 'Sensitivity': sensitivity[0][0]}, ignore_index=True)\n"
          ]
        },
        {
          "output_type": "stream",
          "name": "stdout",
          "text": [
            "1/1 [==============================] - 0s 25ms/step\n",
            "1/1 [==============================] - 0s 22ms/step\n",
            "1/1 [==============================] - 0s 25ms/step\n"
          ]
        },
        {
          "output_type": "stream",
          "name": "stderr",
          "text": [
            "<ipython-input-31-ba24669a4e7b>:17: FutureWarning: The frame.append method is deprecated and will be removed from pandas in a future version. Use pandas.concat instead.\n",
            "  sensitivity_df = sensitivity_df.append({'Feature': feature, 'Sensitivity': sensitivity[0][0]}, ignore_index=True)\n",
            "<ipython-input-31-ba24669a4e7b>:17: FutureWarning: The frame.append method is deprecated and will be removed from pandas in a future version. Use pandas.concat instead.\n",
            "  sensitivity_df = sensitivity_df.append({'Feature': feature, 'Sensitivity': sensitivity[0][0]}, ignore_index=True)\n",
            "<ipython-input-31-ba24669a4e7b>:17: FutureWarning: The frame.append method is deprecated and will be removed from pandas in a future version. Use pandas.concat instead.\n",
            "  sensitivity_df = sensitivity_df.append({'Feature': feature, 'Sensitivity': sensitivity[0][0]}, ignore_index=True)\n"
          ]
        },
        {
          "output_type": "stream",
          "name": "stdout",
          "text": [
            "1/1 [==============================] - 0s 27ms/step\n",
            "1/1 [==============================] - 0s 22ms/step\n",
            "1/1 [==============================] - 0s 25ms/step\n"
          ]
        },
        {
          "output_type": "stream",
          "name": "stderr",
          "text": [
            "<ipython-input-31-ba24669a4e7b>:17: FutureWarning: The frame.append method is deprecated and will be removed from pandas in a future version. Use pandas.concat instead.\n",
            "  sensitivity_df = sensitivity_df.append({'Feature': feature, 'Sensitivity': sensitivity[0][0]}, ignore_index=True)\n",
            "<ipython-input-31-ba24669a4e7b>:17: FutureWarning: The frame.append method is deprecated and will be removed from pandas in a future version. Use pandas.concat instead.\n",
            "  sensitivity_df = sensitivity_df.append({'Feature': feature, 'Sensitivity': sensitivity[0][0]}, ignore_index=True)\n",
            "<ipython-input-31-ba24669a4e7b>:17: FutureWarning: The frame.append method is deprecated and will be removed from pandas in a future version. Use pandas.concat instead.\n",
            "  sensitivity_df = sensitivity_df.append({'Feature': feature, 'Sensitivity': sensitivity[0][0]}, ignore_index=True)\n"
          ]
        },
        {
          "output_type": "stream",
          "name": "stdout",
          "text": [
            "1/1 [==============================] - 0s 23ms/step\n",
            "1/1 [==============================] - 0s 21ms/step\n",
            "1/1 [==============================] - 0s 29ms/step\n"
          ]
        },
        {
          "output_type": "stream",
          "name": "stderr",
          "text": [
            "<ipython-input-31-ba24669a4e7b>:17: FutureWarning: The frame.append method is deprecated and will be removed from pandas in a future version. Use pandas.concat instead.\n",
            "  sensitivity_df = sensitivity_df.append({'Feature': feature, 'Sensitivity': sensitivity[0][0]}, ignore_index=True)\n",
            "<ipython-input-31-ba24669a4e7b>:17: FutureWarning: The frame.append method is deprecated and will be removed from pandas in a future version. Use pandas.concat instead.\n",
            "  sensitivity_df = sensitivity_df.append({'Feature': feature, 'Sensitivity': sensitivity[0][0]}, ignore_index=True)\n",
            "<ipython-input-31-ba24669a4e7b>:17: FutureWarning: The frame.append method is deprecated and will be removed from pandas in a future version. Use pandas.concat instead.\n",
            "  sensitivity_df = sensitivity_df.append({'Feature': feature, 'Sensitivity': sensitivity[0][0]}, ignore_index=True)\n"
          ]
        },
        {
          "output_type": "stream",
          "name": "stdout",
          "text": [
            "1/1 [==============================] - 0s 25ms/step\n",
            "1/1 [==============================] - 0s 22ms/step\n",
            "1/1 [==============================] - 0s 23ms/step\n"
          ]
        },
        {
          "output_type": "stream",
          "name": "stderr",
          "text": [
            "<ipython-input-31-ba24669a4e7b>:17: FutureWarning: The frame.append method is deprecated and will be removed from pandas in a future version. Use pandas.concat instead.\n",
            "  sensitivity_df = sensitivity_df.append({'Feature': feature, 'Sensitivity': sensitivity[0][0]}, ignore_index=True)\n",
            "<ipython-input-31-ba24669a4e7b>:17: FutureWarning: The frame.append method is deprecated and will be removed from pandas in a future version. Use pandas.concat instead.\n",
            "  sensitivity_df = sensitivity_df.append({'Feature': feature, 'Sensitivity': sensitivity[0][0]}, ignore_index=True)\n",
            "<ipython-input-31-ba24669a4e7b>:17: FutureWarning: The frame.append method is deprecated and will be removed from pandas in a future version. Use pandas.concat instead.\n",
            "  sensitivity_df = sensitivity_df.append({'Feature': feature, 'Sensitivity': sensitivity[0][0]}, ignore_index=True)\n"
          ]
        },
        {
          "output_type": "stream",
          "name": "stdout",
          "text": [
            "1/1 [==============================] - 0s 25ms/step\n",
            "1/1 [==============================] - 0s 23ms/step\n",
            "1/1 [==============================] - 0s 27ms/step\n",
            "1/1 [==============================] - 0s 21ms/step\n"
          ]
        },
        {
          "output_type": "stream",
          "name": "stderr",
          "text": [
            "<ipython-input-31-ba24669a4e7b>:17: FutureWarning: The frame.append method is deprecated and will be removed from pandas in a future version. Use pandas.concat instead.\n",
            "  sensitivity_df = sensitivity_df.append({'Feature': feature, 'Sensitivity': sensitivity[0][0]}, ignore_index=True)\n",
            "<ipython-input-31-ba24669a4e7b>:17: FutureWarning: The frame.append method is deprecated and will be removed from pandas in a future version. Use pandas.concat instead.\n",
            "  sensitivity_df = sensitivity_df.append({'Feature': feature, 'Sensitivity': sensitivity[0][0]}, ignore_index=True)\n",
            "<ipython-input-31-ba24669a4e7b>:17: FutureWarning: The frame.append method is deprecated and will be removed from pandas in a future version. Use pandas.concat instead.\n",
            "  sensitivity_df = sensitivity_df.append({'Feature': feature, 'Sensitivity': sensitivity[0][0]}, ignore_index=True)\n"
          ]
        },
        {
          "output_type": "stream",
          "name": "stdout",
          "text": [
            "1/1 [==============================] - 0s 22ms/step\n",
            "1/1 [==============================] - 0s 24ms/step\n"
          ]
        },
        {
          "output_type": "stream",
          "name": "stderr",
          "text": [
            "<ipython-input-31-ba24669a4e7b>:17: FutureWarning: The frame.append method is deprecated and will be removed from pandas in a future version. Use pandas.concat instead.\n",
            "  sensitivity_df = sensitivity_df.append({'Feature': feature, 'Sensitivity': sensitivity[0][0]}, ignore_index=True)\n",
            "<ipython-input-31-ba24669a4e7b>:17: FutureWarning: The frame.append method is deprecated and will be removed from pandas in a future version. Use pandas.concat instead.\n",
            "  sensitivity_df = sensitivity_df.append({'Feature': feature, 'Sensitivity': sensitivity[0][0]}, ignore_index=True)\n",
            "<ipython-input-31-ba24669a4e7b>:17: FutureWarning: The frame.append method is deprecated and will be removed from pandas in a future version. Use pandas.concat instead.\n",
            "  sensitivity_df = sensitivity_df.append({'Feature': feature, 'Sensitivity': sensitivity[0][0]}, ignore_index=True)\n"
          ]
        },
        {
          "output_type": "stream",
          "name": "stdout",
          "text": [
            "1/1 [==============================] - 0s 28ms/step\n",
            "1/1 [==============================] - 0s 30ms/step\n",
            "1/1 [==============================] - 0s 25ms/step\n"
          ]
        },
        {
          "output_type": "stream",
          "name": "stderr",
          "text": [
            "<ipython-input-31-ba24669a4e7b>:17: FutureWarning: The frame.append method is deprecated and will be removed from pandas in a future version. Use pandas.concat instead.\n",
            "  sensitivity_df = sensitivity_df.append({'Feature': feature, 'Sensitivity': sensitivity[0][0]}, ignore_index=True)\n",
            "<ipython-input-31-ba24669a4e7b>:17: FutureWarning: The frame.append method is deprecated and will be removed from pandas in a future version. Use pandas.concat instead.\n",
            "  sensitivity_df = sensitivity_df.append({'Feature': feature, 'Sensitivity': sensitivity[0][0]}, ignore_index=True)\n",
            "<ipython-input-31-ba24669a4e7b>:17: FutureWarning: The frame.append method is deprecated and will be removed from pandas in a future version. Use pandas.concat instead.\n",
            "  sensitivity_df = sensitivity_df.append({'Feature': feature, 'Sensitivity': sensitivity[0][0]}, ignore_index=True)\n"
          ]
        },
        {
          "output_type": "stream",
          "name": "stdout",
          "text": [
            "1/1 [==============================] - 0s 22ms/step\n",
            "1/1 [==============================] - 0s 21ms/step\n",
            "1/1 [==============================] - 0s 21ms/step\n"
          ]
        },
        {
          "output_type": "stream",
          "name": "stderr",
          "text": [
            "<ipython-input-31-ba24669a4e7b>:17: FutureWarning: The frame.append method is deprecated and will be removed from pandas in a future version. Use pandas.concat instead.\n",
            "  sensitivity_df = sensitivity_df.append({'Feature': feature, 'Sensitivity': sensitivity[0][0]}, ignore_index=True)\n",
            "<ipython-input-31-ba24669a4e7b>:17: FutureWarning: The frame.append method is deprecated and will be removed from pandas in a future version. Use pandas.concat instead.\n",
            "  sensitivity_df = sensitivity_df.append({'Feature': feature, 'Sensitivity': sensitivity[0][0]}, ignore_index=True)\n",
            "<ipython-input-31-ba24669a4e7b>:17: FutureWarning: The frame.append method is deprecated and will be removed from pandas in a future version. Use pandas.concat instead.\n",
            "  sensitivity_df = sensitivity_df.append({'Feature': feature, 'Sensitivity': sensitivity[0][0]}, ignore_index=True)\n"
          ]
        },
        {
          "output_type": "stream",
          "name": "stdout",
          "text": [
            "1/1 [==============================] - 0s 22ms/step\n",
            "1/1 [==============================] - 0s 21ms/step\n",
            "1/1 [==============================] - 0s 22ms/step\n"
          ]
        },
        {
          "output_type": "stream",
          "name": "stderr",
          "text": [
            "<ipython-input-31-ba24669a4e7b>:17: FutureWarning: The frame.append method is deprecated and will be removed from pandas in a future version. Use pandas.concat instead.\n",
            "  sensitivity_df = sensitivity_df.append({'Feature': feature, 'Sensitivity': sensitivity[0][0]}, ignore_index=True)\n",
            "<ipython-input-31-ba24669a4e7b>:17: FutureWarning: The frame.append method is deprecated and will be removed from pandas in a future version. Use pandas.concat instead.\n",
            "  sensitivity_df = sensitivity_df.append({'Feature': feature, 'Sensitivity': sensitivity[0][0]}, ignore_index=True)\n",
            "<ipython-input-31-ba24669a4e7b>:17: FutureWarning: The frame.append method is deprecated and will be removed from pandas in a future version. Use pandas.concat instead.\n",
            "  sensitivity_df = sensitivity_df.append({'Feature': feature, 'Sensitivity': sensitivity[0][0]}, ignore_index=True)\n"
          ]
        },
        {
          "output_type": "stream",
          "name": "stdout",
          "text": [
            "1/1 [==============================] - 0s 27ms/step\n",
            "1/1 [==============================] - 0s 21ms/step\n",
            "1/1 [==============================] - 0s 25ms/step\n"
          ]
        },
        {
          "output_type": "stream",
          "name": "stderr",
          "text": [
            "<ipython-input-31-ba24669a4e7b>:17: FutureWarning: The frame.append method is deprecated and will be removed from pandas in a future version. Use pandas.concat instead.\n",
            "  sensitivity_df = sensitivity_df.append({'Feature': feature, 'Sensitivity': sensitivity[0][0]}, ignore_index=True)\n",
            "<ipython-input-31-ba24669a4e7b>:17: FutureWarning: The frame.append method is deprecated and will be removed from pandas in a future version. Use pandas.concat instead.\n",
            "  sensitivity_df = sensitivity_df.append({'Feature': feature, 'Sensitivity': sensitivity[0][0]}, ignore_index=True)\n",
            "<ipython-input-31-ba24669a4e7b>:17: FutureWarning: The frame.append method is deprecated and will be removed from pandas in a future version. Use pandas.concat instead.\n",
            "  sensitivity_df = sensitivity_df.append({'Feature': feature, 'Sensitivity': sensitivity[0][0]}, ignore_index=True)\n"
          ]
        },
        {
          "output_type": "stream",
          "name": "stdout",
          "text": [
            "1/1 [==============================] - 0s 26ms/step\n",
            "1/1 [==============================] - 0s 22ms/step\n",
            "1/1 [==============================] - 0s 35ms/step\n"
          ]
        },
        {
          "output_type": "stream",
          "name": "stderr",
          "text": [
            "<ipython-input-31-ba24669a4e7b>:17: FutureWarning: The frame.append method is deprecated and will be removed from pandas in a future version. Use pandas.concat instead.\n",
            "  sensitivity_df = sensitivity_df.append({'Feature': feature, 'Sensitivity': sensitivity[0][0]}, ignore_index=True)\n",
            "<ipython-input-31-ba24669a4e7b>:17: FutureWarning: The frame.append method is deprecated and will be removed from pandas in a future version. Use pandas.concat instead.\n",
            "  sensitivity_df = sensitivity_df.append({'Feature': feature, 'Sensitivity': sensitivity[0][0]}, ignore_index=True)\n",
            "<ipython-input-31-ba24669a4e7b>:17: FutureWarning: The frame.append method is deprecated and will be removed from pandas in a future version. Use pandas.concat instead.\n",
            "  sensitivity_df = sensitivity_df.append({'Feature': feature, 'Sensitivity': sensitivity[0][0]}, ignore_index=True)\n"
          ]
        },
        {
          "output_type": "stream",
          "name": "stdout",
          "text": [
            "1/1 [==============================] - 0s 23ms/step\n",
            "1/1 [==============================] - 0s 24ms/step\n",
            "1/1 [==============================] - 0s 24ms/step\n"
          ]
        },
        {
          "output_type": "stream",
          "name": "stderr",
          "text": [
            "<ipython-input-31-ba24669a4e7b>:17: FutureWarning: The frame.append method is deprecated and will be removed from pandas in a future version. Use pandas.concat instead.\n",
            "  sensitivity_df = sensitivity_df.append({'Feature': feature, 'Sensitivity': sensitivity[0][0]}, ignore_index=True)\n",
            "<ipython-input-31-ba24669a4e7b>:17: FutureWarning: The frame.append method is deprecated and will be removed from pandas in a future version. Use pandas.concat instead.\n",
            "  sensitivity_df = sensitivity_df.append({'Feature': feature, 'Sensitivity': sensitivity[0][0]}, ignore_index=True)\n",
            "<ipython-input-31-ba24669a4e7b>:17: FutureWarning: The frame.append method is deprecated and will be removed from pandas in a future version. Use pandas.concat instead.\n",
            "  sensitivity_df = sensitivity_df.append({'Feature': feature, 'Sensitivity': sensitivity[0][0]}, ignore_index=True)\n"
          ]
        },
        {
          "output_type": "stream",
          "name": "stdout",
          "text": [
            "1/1 [==============================] - 0s 25ms/step\n",
            "1/1 [==============================] - 0s 23ms/step\n",
            "1/1 [==============================] - 0s 26ms/step\n"
          ]
        },
        {
          "output_type": "stream",
          "name": "stderr",
          "text": [
            "<ipython-input-31-ba24669a4e7b>:17: FutureWarning: The frame.append method is deprecated and will be removed from pandas in a future version. Use pandas.concat instead.\n",
            "  sensitivity_df = sensitivity_df.append({'Feature': feature, 'Sensitivity': sensitivity[0][0]}, ignore_index=True)\n",
            "<ipython-input-31-ba24669a4e7b>:17: FutureWarning: The frame.append method is deprecated and will be removed from pandas in a future version. Use pandas.concat instead.\n",
            "  sensitivity_df = sensitivity_df.append({'Feature': feature, 'Sensitivity': sensitivity[0][0]}, ignore_index=True)\n",
            "<ipython-input-31-ba24669a4e7b>:17: FutureWarning: The frame.append method is deprecated and will be removed from pandas in a future version. Use pandas.concat instead.\n",
            "  sensitivity_df = sensitivity_df.append({'Feature': feature, 'Sensitivity': sensitivity[0][0]}, ignore_index=True)\n"
          ]
        },
        {
          "output_type": "stream",
          "name": "stdout",
          "text": [
            "1/1 [==============================] - 0s 28ms/step\n",
            "1/1 [==============================] - 0s 22ms/step\n",
            "1/1 [==============================] - 0s 22ms/step\n",
            "1/1 [==============================] - ETA: 0s"
          ]
        },
        {
          "output_type": "stream",
          "name": "stderr",
          "text": [
            "<ipython-input-31-ba24669a4e7b>:17: FutureWarning: The frame.append method is deprecated and will be removed from pandas in a future version. Use pandas.concat instead.\n",
            "  sensitivity_df = sensitivity_df.append({'Feature': feature, 'Sensitivity': sensitivity[0][0]}, ignore_index=True)\n",
            "<ipython-input-31-ba24669a4e7b>:17: FutureWarning: The frame.append method is deprecated and will be removed from pandas in a future version. Use pandas.concat instead.\n",
            "  sensitivity_df = sensitivity_df.append({'Feature': feature, 'Sensitivity': sensitivity[0][0]}, ignore_index=True)\n",
            "<ipython-input-31-ba24669a4e7b>:17: FutureWarning: The frame.append method is deprecated and will be removed from pandas in a future version. Use pandas.concat instead.\n",
            "  sensitivity_df = sensitivity_df.append({'Feature': feature, 'Sensitivity': sensitivity[0][0]}, ignore_index=True)\n"
          ]
        },
        {
          "output_type": "stream",
          "name": "stdout",
          "text": [
            "\b\b\b\b\b\b\b\b\b\b\b\b\b\b\b\b\b\b\b\b\b\b\b\b\b\b\b\b\b\b\b\b\b\b\b\b\b\b\b\b\b\b\b\b\b\b\r1/1 [==============================] - 0s 24ms/step\n"
          ]
        },
        {
          "output_type": "stream",
          "name": "stderr",
          "text": [
            "<ipython-input-31-ba24669a4e7b>:17: FutureWarning: The frame.append method is deprecated and will be removed from pandas in a future version. Use pandas.concat instead.\n",
            "  sensitivity_df = sensitivity_df.append({'Feature': feature, 'Sensitivity': sensitivity[0][0]}, ignore_index=True)\n"
          ]
        },
        {
          "output_type": "execute_result",
          "data": {
            "text/plain": [
              "                                              Feature  Sensitivity\n",
              "45  MAINHEAT_DESCRIPTION_Boiler and underfloor hea...     0.024351\n",
              "4                                  ENVIRONMENT_IMPACT     0.021169\n",
              "22  MAINHEAT_DESCRIPTION_Boiler and radiators, ant...     0.021100\n",
              "38  MAINHEAT_DESCRIPTION_Boiler and radiators, smo...     0.020122\n",
              "76  MAINHEAT_DESCRIPTION_Portable electric heating...     0.020057\n",
              "..                                                ...          ...\n",
              "66   MAINHEAT_DESCRIPTION_Electric underfloor heating    -0.040156\n",
              "80  MAINHEAT_DESCRIPTION_Room heaters, dual fuel (...    -0.045292\n",
              "16  MAINHEAT_DESCRIPTION_Air source heat pump, war...    -0.054911\n",
              "0                                   ENERGY_EFFICIENCY    -0.055025\n",
              "21     MAINHEAT_DESCRIPTION_Boiler and radiators, LPG    -0.058313\n",
              "\n",
              "[101 rows x 2 columns]"
            ],
            "text/html": [
              "\n",
              "  <div id=\"df-ade32ef3-dc26-4761-8bfe-b581ea79983e\" class=\"colab-df-container\">\n",
              "    <div>\n",
              "<style scoped>\n",
              "    .dataframe tbody tr th:only-of-type {\n",
              "        vertical-align: middle;\n",
              "    }\n",
              "\n",
              "    .dataframe tbody tr th {\n",
              "        vertical-align: top;\n",
              "    }\n",
              "\n",
              "    .dataframe thead th {\n",
              "        text-align: right;\n",
              "    }\n",
              "</style>\n",
              "<table border=\"1\" class=\"dataframe\">\n",
              "  <thead>\n",
              "    <tr style=\"text-align: right;\">\n",
              "      <th></th>\n",
              "      <th>Feature</th>\n",
              "      <th>Sensitivity</th>\n",
              "    </tr>\n",
              "  </thead>\n",
              "  <tbody>\n",
              "    <tr>\n",
              "      <th>45</th>\n",
              "      <td>MAINHEAT_DESCRIPTION_Boiler and underfloor hea...</td>\n",
              "      <td>0.024351</td>\n",
              "    </tr>\n",
              "    <tr>\n",
              "      <th>4</th>\n",
              "      <td>ENVIRONMENT_IMPACT</td>\n",
              "      <td>0.021169</td>\n",
              "    </tr>\n",
              "    <tr>\n",
              "      <th>22</th>\n",
              "      <td>MAINHEAT_DESCRIPTION_Boiler and radiators, ant...</td>\n",
              "      <td>0.021100</td>\n",
              "    </tr>\n",
              "    <tr>\n",
              "      <th>38</th>\n",
              "      <td>MAINHEAT_DESCRIPTION_Boiler and radiators, smo...</td>\n",
              "      <td>0.020122</td>\n",
              "    </tr>\n",
              "    <tr>\n",
              "      <th>76</th>\n",
              "      <td>MAINHEAT_DESCRIPTION_Portable electric heating...</td>\n",
              "      <td>0.020057</td>\n",
              "    </tr>\n",
              "    <tr>\n",
              "      <th>...</th>\n",
              "      <td>...</td>\n",
              "      <td>...</td>\n",
              "    </tr>\n",
              "    <tr>\n",
              "      <th>66</th>\n",
              "      <td>MAINHEAT_DESCRIPTION_Electric underfloor heating</td>\n",
              "      <td>-0.040156</td>\n",
              "    </tr>\n",
              "    <tr>\n",
              "      <th>80</th>\n",
              "      <td>MAINHEAT_DESCRIPTION_Room heaters, dual fuel (...</td>\n",
              "      <td>-0.045292</td>\n",
              "    </tr>\n",
              "    <tr>\n",
              "      <th>16</th>\n",
              "      <td>MAINHEAT_DESCRIPTION_Air source heat pump, war...</td>\n",
              "      <td>-0.054911</td>\n",
              "    </tr>\n",
              "    <tr>\n",
              "      <th>0</th>\n",
              "      <td>ENERGY_EFFICIENCY</td>\n",
              "      <td>-0.055025</td>\n",
              "    </tr>\n",
              "    <tr>\n",
              "      <th>21</th>\n",
              "      <td>MAINHEAT_DESCRIPTION_Boiler and radiators, LPG</td>\n",
              "      <td>-0.058313</td>\n",
              "    </tr>\n",
              "  </tbody>\n",
              "</table>\n",
              "<p>101 rows × 2 columns</p>\n",
              "</div>\n",
              "    <div class=\"colab-df-buttons\">\n",
              "\n",
              "  <div class=\"colab-df-container\">\n",
              "    <button class=\"colab-df-convert\" onclick=\"convertToInteractive('df-ade32ef3-dc26-4761-8bfe-b581ea79983e')\"\n",
              "            title=\"Convert this dataframe to an interactive table.\"\n",
              "            style=\"display:none;\">\n",
              "\n",
              "  <svg xmlns=\"http://www.w3.org/2000/svg\" height=\"24px\" viewBox=\"0 -960 960 960\">\n",
              "    <path d=\"M120-120v-720h720v720H120Zm60-500h600v-160H180v160Zm220 220h160v-160H400v160Zm0 220h160v-160H400v160ZM180-400h160v-160H180v160Zm440 0h160v-160H620v160ZM180-180h160v-160H180v160Zm440 0h160v-160H620v160Z\"/>\n",
              "  </svg>\n",
              "    </button>\n",
              "\n",
              "  <style>\n",
              "    .colab-df-container {\n",
              "      display:flex;\n",
              "      gap: 12px;\n",
              "    }\n",
              "\n",
              "    .colab-df-convert {\n",
              "      background-color: #E8F0FE;\n",
              "      border: none;\n",
              "      border-radius: 50%;\n",
              "      cursor: pointer;\n",
              "      display: none;\n",
              "      fill: #1967D2;\n",
              "      height: 32px;\n",
              "      padding: 0 0 0 0;\n",
              "      width: 32px;\n",
              "    }\n",
              "\n",
              "    .colab-df-convert:hover {\n",
              "      background-color: #E2EBFA;\n",
              "      box-shadow: 0px 1px 2px rgba(60, 64, 67, 0.3), 0px 1px 3px 1px rgba(60, 64, 67, 0.15);\n",
              "      fill: #174EA6;\n",
              "    }\n",
              "\n",
              "    .colab-df-buttons div {\n",
              "      margin-bottom: 4px;\n",
              "    }\n",
              "\n",
              "    [theme=dark] .colab-df-convert {\n",
              "      background-color: #3B4455;\n",
              "      fill: #D2E3FC;\n",
              "    }\n",
              "\n",
              "    [theme=dark] .colab-df-convert:hover {\n",
              "      background-color: #434B5C;\n",
              "      box-shadow: 0px 1px 3px 1px rgba(0, 0, 0, 0.15);\n",
              "      filter: drop-shadow(0px 1px 2px rgba(0, 0, 0, 0.3));\n",
              "      fill: #FFFFFF;\n",
              "    }\n",
              "  </style>\n",
              "\n",
              "    <script>\n",
              "      const buttonEl =\n",
              "        document.querySelector('#df-ade32ef3-dc26-4761-8bfe-b581ea79983e button.colab-df-convert');\n",
              "      buttonEl.style.display =\n",
              "        google.colab.kernel.accessAllowed ? 'block' : 'none';\n",
              "\n",
              "      async function convertToInteractive(key) {\n",
              "        const element = document.querySelector('#df-ade32ef3-dc26-4761-8bfe-b581ea79983e');\n",
              "        const dataTable =\n",
              "          await google.colab.kernel.invokeFunction('convertToInteractive',\n",
              "                                                    [key], {});\n",
              "        if (!dataTable) return;\n",
              "\n",
              "        const docLinkHtml = 'Like what you see? Visit the ' +\n",
              "          '<a target=\"_blank\" href=https://colab.research.google.com/notebooks/data_table.ipynb>data table notebook</a>'\n",
              "          + ' to learn more about interactive tables.';\n",
              "        element.innerHTML = '';\n",
              "        dataTable['output_type'] = 'display_data';\n",
              "        await google.colab.output.renderOutput(dataTable, element);\n",
              "        const docLink = document.createElement('div');\n",
              "        docLink.innerHTML = docLinkHtml;\n",
              "        element.appendChild(docLink);\n",
              "      }\n",
              "    </script>\n",
              "  </div>\n",
              "\n",
              "\n",
              "<div id=\"df-9b3ecfb2-5abc-4ced-8a15-8c46e11321b4\">\n",
              "  <button class=\"colab-df-quickchart\" onclick=\"quickchart('df-9b3ecfb2-5abc-4ced-8a15-8c46e11321b4')\"\n",
              "            title=\"Suggest charts.\"\n",
              "            style=\"display:none;\">\n",
              "\n",
              "<svg xmlns=\"http://www.w3.org/2000/svg\" height=\"24px\"viewBox=\"0 0 24 24\"\n",
              "     width=\"24px\">\n",
              "    <g>\n",
              "        <path d=\"M19 3H5c-1.1 0-2 .9-2 2v14c0 1.1.9 2 2 2h14c1.1 0 2-.9 2-2V5c0-1.1-.9-2-2-2zM9 17H7v-7h2v7zm4 0h-2V7h2v10zm4 0h-2v-4h2v4z\"/>\n",
              "    </g>\n",
              "</svg>\n",
              "  </button>\n",
              "\n",
              "<style>\n",
              "  .colab-df-quickchart {\n",
              "    background-color: #E8F0FE;\n",
              "    border: none;\n",
              "    border-radius: 50%;\n",
              "    cursor: pointer;\n",
              "    display: none;\n",
              "    fill: #1967D2;\n",
              "    height: 32px;\n",
              "    padding: 0 0 0 0;\n",
              "    width: 32px;\n",
              "  }\n",
              "\n",
              "  .colab-df-quickchart:hover {\n",
              "    background-color: #E2EBFA;\n",
              "    box-shadow: 0px 1px 2px rgba(60, 64, 67, 0.3), 0px 1px 3px 1px rgba(60, 64, 67, 0.15);\n",
              "    fill: #174EA6;\n",
              "  }\n",
              "\n",
              "  [theme=dark] .colab-df-quickchart {\n",
              "    background-color: #3B4455;\n",
              "    fill: #D2E3FC;\n",
              "  }\n",
              "\n",
              "  [theme=dark] .colab-df-quickchart:hover {\n",
              "    background-color: #434B5C;\n",
              "    box-shadow: 0px 1px 3px 1px rgba(0, 0, 0, 0.15);\n",
              "    filter: drop-shadow(0px 1px 2px rgba(0, 0, 0, 0.3));\n",
              "    fill: #FFFFFF;\n",
              "  }\n",
              "</style>\n",
              "\n",
              "  <script>\n",
              "    async function quickchart(key) {\n",
              "      const charts = await google.colab.kernel.invokeFunction(\n",
              "          'suggestCharts', [key], {});\n",
              "    }\n",
              "    (() => {\n",
              "      let quickchartButtonEl =\n",
              "        document.querySelector('#df-9b3ecfb2-5abc-4ced-8a15-8c46e11321b4 button');\n",
              "      quickchartButtonEl.style.display =\n",
              "        google.colab.kernel.accessAllowed ? 'block' : 'none';\n",
              "    })();\n",
              "  </script>\n",
              "</div>\n",
              "    </div>\n",
              "  </div>\n"
            ]
          },
          "metadata": {},
          "execution_count": 31
        }
      ]
    },
    {
      "cell_type": "markdown",
      "source": [
        "#  **TESTING IN NEW SCENERIO**\n",
        "Let's assume that we want to assess the performance of the ANN model under the scenario where there is a 20% reduction in both CO2 emissions and energy consumption, and a 10% increase in hot water cost. We can apply this assumption to the test data and compare the predicted heating costs with the original heating costs."
      ],
      "metadata": {
        "id": "I0-c8DUUECQw"
      }
    },
    {
      "cell_type": "code",
      "source": [
        " #Apply the assumption to the test data\n",
        "X_test_assumption = X_test.copy()\n",
        "X_test_assumption['CO2_EMISSIONS'] *= 0.8  # 20% reduction\n",
        "X_test_assumption['ENERGY_CONSUMPTION'] *= 0.8  # 20% reduction\n",
        "X_test_assumption['HOT_WATER_COST'] *= 1.1  # 10% increase"
      ],
      "metadata": {
        "id": "B9nS5wWS_17J"
      },
      "execution_count": 32,
      "outputs": []
    },
    {
      "cell_type": "code",
      "source": [
        "# Make predictions on the test data with the assumption\n",
        "y_pred_assumption = model.predict(X_test_assumption)"
      ],
      "metadata": {
        "colab": {
          "base_uri": "https://localhost:8080/"
        },
        "id": "CO55iQoTACdC",
        "outputId": "a10cc318-1165-4c2e-f324-039d62590fa3"
      },
      "execution_count": 33,
      "outputs": [
        {
          "output_type": "stream",
          "name": "stdout",
          "text": [
            "1136/1136 [==============================] - 2s 2ms/step\n"
          ]
        }
      ]
    },
    {
      "cell_type": "code",
      "source": [
        "# Calculate the differences between the original predicted heating costs and the assumption's predicted heating costs\n",
        "heating_cost_difference_assumption = y_pred_ann - y_pred_assumption"
      ],
      "metadata": {
        "id": "Ctn7MGmoAJfr"
      },
      "execution_count": 34,
      "outputs": []
    },
    {
      "cell_type": "code",
      "source": [
        "heating_cost_difference_assumption"
      ],
      "metadata": {
        "colab": {
          "base_uri": "https://localhost:8080/"
        },
        "id": "YBRzbk1fASZQ",
        "outputId": "077a162f-6f04-463b-8d41-4be2a0248068"
      },
      "execution_count": 35,
      "outputs": [
        {
          "output_type": "execute_result",
          "data": {
            "text/plain": [
              "array([[-0.00989139],\n",
              "       [-0.06338346],\n",
              "       [ 0.2758175 ],\n",
              "       ...,\n",
              "       [ 0.0832302 ],\n",
              "       [ 0.0504874 ],\n",
              "       [ 0.10106835]], dtype=float32)"
            ]
          },
          "metadata": {},
          "execution_count": 35
        }
      ]
    },
    {
      "cell_type": "code",
      "source": [
        "# Reshape the variables if needed\n",
        "y_pred_ann_reshaped = y_pred_ann.reshape(-1)\n",
        "y_pred_assumption_reshaped = y_pred_assumption.reshape(-1)\n",
        "heating_cost_difference_assumption_reshaped = heating_cost_difference_assumption.reshape(-1)\n",
        "# Create a new DataFrame to store the results\n",
        "df_assumption_results = pd.DataFrame({\n",
        "    'Original_Predicted_Heating_Cost': y_pred_ann_reshaped,\n",
        "    'Assumption_Predicted_Heating_Cost': y_pred_assumption_reshaped,\n",
        "    'Heating_Cost_Difference_Assumption': heating_cost_difference_assumption_reshaped\n",
        "})\n",
        "\n",
        "# Display the assumption results DataFrame\n",
        "df_assumption_results"
      ],
      "metadata": {
        "colab": {
          "base_uri": "https://localhost:8080/",
          "height": 423
        },
        "id": "xMmrPar6A6Kv",
        "outputId": "86927396-9a0c-4f8a-a9f9-23859b8f0e74"
      },
      "execution_count": 36,
      "outputs": [
        {
          "output_type": "execute_result",
          "data": {
            "text/plain": [
              "       Original_Predicted_Heating_Cost  Assumption_Predicted_Heating_Cost  \\\n",
              "0                            -0.708577                          -0.698685   \n",
              "1                            -0.536849                          -0.473466   \n",
              "2                             1.397598                           1.121780   \n",
              "3                             5.880675                           5.397517   \n",
              "4                            -1.311677                          -1.297956   \n",
              "...                                ...                                ...   \n",
              "36332                         0.659958                           0.556915   \n",
              "36333                         0.318429                           0.433152   \n",
              "36334                         1.037826                           0.954596   \n",
              "36335                         0.362536                           0.312049   \n",
              "36336                         0.284248                           0.183179   \n",
              "\n",
              "       Heating_Cost_Difference_Assumption  \n",
              "0                               -0.009891  \n",
              "1                               -0.063383  \n",
              "2                                0.275818  \n",
              "3                                0.483158  \n",
              "4                               -0.013721  \n",
              "...                                   ...  \n",
              "36332                            0.103043  \n",
              "36333                           -0.114723  \n",
              "36334                            0.083230  \n",
              "36335                            0.050487  \n",
              "36336                            0.101068  \n",
              "\n",
              "[36337 rows x 3 columns]"
            ],
            "text/html": [
              "\n",
              "  <div id=\"df-8d49007b-c022-428f-a16b-0c5f8e4e2925\" class=\"colab-df-container\">\n",
              "    <div>\n",
              "<style scoped>\n",
              "    .dataframe tbody tr th:only-of-type {\n",
              "        vertical-align: middle;\n",
              "    }\n",
              "\n",
              "    .dataframe tbody tr th {\n",
              "        vertical-align: top;\n",
              "    }\n",
              "\n",
              "    .dataframe thead th {\n",
              "        text-align: right;\n",
              "    }\n",
              "</style>\n",
              "<table border=\"1\" class=\"dataframe\">\n",
              "  <thead>\n",
              "    <tr style=\"text-align: right;\">\n",
              "      <th></th>\n",
              "      <th>Original_Predicted_Heating_Cost</th>\n",
              "      <th>Assumption_Predicted_Heating_Cost</th>\n",
              "      <th>Heating_Cost_Difference_Assumption</th>\n",
              "    </tr>\n",
              "  </thead>\n",
              "  <tbody>\n",
              "    <tr>\n",
              "      <th>0</th>\n",
              "      <td>-0.708577</td>\n",
              "      <td>-0.698685</td>\n",
              "      <td>-0.009891</td>\n",
              "    </tr>\n",
              "    <tr>\n",
              "      <th>1</th>\n",
              "      <td>-0.536849</td>\n",
              "      <td>-0.473466</td>\n",
              "      <td>-0.063383</td>\n",
              "    </tr>\n",
              "    <tr>\n",
              "      <th>2</th>\n",
              "      <td>1.397598</td>\n",
              "      <td>1.121780</td>\n",
              "      <td>0.275818</td>\n",
              "    </tr>\n",
              "    <tr>\n",
              "      <th>3</th>\n",
              "      <td>5.880675</td>\n",
              "      <td>5.397517</td>\n",
              "      <td>0.483158</td>\n",
              "    </tr>\n",
              "    <tr>\n",
              "      <th>4</th>\n",
              "      <td>-1.311677</td>\n",
              "      <td>-1.297956</td>\n",
              "      <td>-0.013721</td>\n",
              "    </tr>\n",
              "    <tr>\n",
              "      <th>...</th>\n",
              "      <td>...</td>\n",
              "      <td>...</td>\n",
              "      <td>...</td>\n",
              "    </tr>\n",
              "    <tr>\n",
              "      <th>36332</th>\n",
              "      <td>0.659958</td>\n",
              "      <td>0.556915</td>\n",
              "      <td>0.103043</td>\n",
              "    </tr>\n",
              "    <tr>\n",
              "      <th>36333</th>\n",
              "      <td>0.318429</td>\n",
              "      <td>0.433152</td>\n",
              "      <td>-0.114723</td>\n",
              "    </tr>\n",
              "    <tr>\n",
              "      <th>36334</th>\n",
              "      <td>1.037826</td>\n",
              "      <td>0.954596</td>\n",
              "      <td>0.083230</td>\n",
              "    </tr>\n",
              "    <tr>\n",
              "      <th>36335</th>\n",
              "      <td>0.362536</td>\n",
              "      <td>0.312049</td>\n",
              "      <td>0.050487</td>\n",
              "    </tr>\n",
              "    <tr>\n",
              "      <th>36336</th>\n",
              "      <td>0.284248</td>\n",
              "      <td>0.183179</td>\n",
              "      <td>0.101068</td>\n",
              "    </tr>\n",
              "  </tbody>\n",
              "</table>\n",
              "<p>36337 rows × 3 columns</p>\n",
              "</div>\n",
              "    <div class=\"colab-df-buttons\">\n",
              "\n",
              "  <div class=\"colab-df-container\">\n",
              "    <button class=\"colab-df-convert\" onclick=\"convertToInteractive('df-8d49007b-c022-428f-a16b-0c5f8e4e2925')\"\n",
              "            title=\"Convert this dataframe to an interactive table.\"\n",
              "            style=\"display:none;\">\n",
              "\n",
              "  <svg xmlns=\"http://www.w3.org/2000/svg\" height=\"24px\" viewBox=\"0 -960 960 960\">\n",
              "    <path d=\"M120-120v-720h720v720H120Zm60-500h600v-160H180v160Zm220 220h160v-160H400v160Zm0 220h160v-160H400v160ZM180-400h160v-160H180v160Zm440 0h160v-160H620v160ZM180-180h160v-160H180v160Zm440 0h160v-160H620v160Z\"/>\n",
              "  </svg>\n",
              "    </button>\n",
              "\n",
              "  <style>\n",
              "    .colab-df-container {\n",
              "      display:flex;\n",
              "      gap: 12px;\n",
              "    }\n",
              "\n",
              "    .colab-df-convert {\n",
              "      background-color: #E8F0FE;\n",
              "      border: none;\n",
              "      border-radius: 50%;\n",
              "      cursor: pointer;\n",
              "      display: none;\n",
              "      fill: #1967D2;\n",
              "      height: 32px;\n",
              "      padding: 0 0 0 0;\n",
              "      width: 32px;\n",
              "    }\n",
              "\n",
              "    .colab-df-convert:hover {\n",
              "      background-color: #E2EBFA;\n",
              "      box-shadow: 0px 1px 2px rgba(60, 64, 67, 0.3), 0px 1px 3px 1px rgba(60, 64, 67, 0.15);\n",
              "      fill: #174EA6;\n",
              "    }\n",
              "\n",
              "    .colab-df-buttons div {\n",
              "      margin-bottom: 4px;\n",
              "    }\n",
              "\n",
              "    [theme=dark] .colab-df-convert {\n",
              "      background-color: #3B4455;\n",
              "      fill: #D2E3FC;\n",
              "    }\n",
              "\n",
              "    [theme=dark] .colab-df-convert:hover {\n",
              "      background-color: #434B5C;\n",
              "      box-shadow: 0px 1px 3px 1px rgba(0, 0, 0, 0.15);\n",
              "      filter: drop-shadow(0px 1px 2px rgba(0, 0, 0, 0.3));\n",
              "      fill: #FFFFFF;\n",
              "    }\n",
              "  </style>\n",
              "\n",
              "    <script>\n",
              "      const buttonEl =\n",
              "        document.querySelector('#df-8d49007b-c022-428f-a16b-0c5f8e4e2925 button.colab-df-convert');\n",
              "      buttonEl.style.display =\n",
              "        google.colab.kernel.accessAllowed ? 'block' : 'none';\n",
              "\n",
              "      async function convertToInteractive(key) {\n",
              "        const element = document.querySelector('#df-8d49007b-c022-428f-a16b-0c5f8e4e2925');\n",
              "        const dataTable =\n",
              "          await google.colab.kernel.invokeFunction('convertToInteractive',\n",
              "                                                    [key], {});\n",
              "        if (!dataTable) return;\n",
              "\n",
              "        const docLinkHtml = 'Like what you see? Visit the ' +\n",
              "          '<a target=\"_blank\" href=https://colab.research.google.com/notebooks/data_table.ipynb>data table notebook</a>'\n",
              "          + ' to learn more about interactive tables.';\n",
              "        element.innerHTML = '';\n",
              "        dataTable['output_type'] = 'display_data';\n",
              "        await google.colab.output.renderOutput(dataTable, element);\n",
              "        const docLink = document.createElement('div');\n",
              "        docLink.innerHTML = docLinkHtml;\n",
              "        element.appendChild(docLink);\n",
              "      }\n",
              "    </script>\n",
              "  </div>\n",
              "\n",
              "\n",
              "<div id=\"df-7d07e672-ea48-4eb9-a90a-6e0c92bd9159\">\n",
              "  <button class=\"colab-df-quickchart\" onclick=\"quickchart('df-7d07e672-ea48-4eb9-a90a-6e0c92bd9159')\"\n",
              "            title=\"Suggest charts.\"\n",
              "            style=\"display:none;\">\n",
              "\n",
              "<svg xmlns=\"http://www.w3.org/2000/svg\" height=\"24px\"viewBox=\"0 0 24 24\"\n",
              "     width=\"24px\">\n",
              "    <g>\n",
              "        <path d=\"M19 3H5c-1.1 0-2 .9-2 2v14c0 1.1.9 2 2 2h14c1.1 0 2-.9 2-2V5c0-1.1-.9-2-2-2zM9 17H7v-7h2v7zm4 0h-2V7h2v10zm4 0h-2v-4h2v4z\"/>\n",
              "    </g>\n",
              "</svg>\n",
              "  </button>\n",
              "\n",
              "<style>\n",
              "  .colab-df-quickchart {\n",
              "    background-color: #E8F0FE;\n",
              "    border: none;\n",
              "    border-radius: 50%;\n",
              "    cursor: pointer;\n",
              "    display: none;\n",
              "    fill: #1967D2;\n",
              "    height: 32px;\n",
              "    padding: 0 0 0 0;\n",
              "    width: 32px;\n",
              "  }\n",
              "\n",
              "  .colab-df-quickchart:hover {\n",
              "    background-color: #E2EBFA;\n",
              "    box-shadow: 0px 1px 2px rgba(60, 64, 67, 0.3), 0px 1px 3px 1px rgba(60, 64, 67, 0.15);\n",
              "    fill: #174EA6;\n",
              "  }\n",
              "\n",
              "  [theme=dark] .colab-df-quickchart {\n",
              "    background-color: #3B4455;\n",
              "    fill: #D2E3FC;\n",
              "  }\n",
              "\n",
              "  [theme=dark] .colab-df-quickchart:hover {\n",
              "    background-color: #434B5C;\n",
              "    box-shadow: 0px 1px 3px 1px rgba(0, 0, 0, 0.15);\n",
              "    filter: drop-shadow(0px 1px 2px rgba(0, 0, 0, 0.3));\n",
              "    fill: #FFFFFF;\n",
              "  }\n",
              "</style>\n",
              "\n",
              "  <script>\n",
              "    async function quickchart(key) {\n",
              "      const charts = await google.colab.kernel.invokeFunction(\n",
              "          'suggestCharts', [key], {});\n",
              "    }\n",
              "    (() => {\n",
              "      let quickchartButtonEl =\n",
              "        document.querySelector('#df-7d07e672-ea48-4eb9-a90a-6e0c92bd9159 button');\n",
              "      quickchartButtonEl.style.display =\n",
              "        google.colab.kernel.accessAllowed ? 'block' : 'none';\n",
              "    })();\n",
              "  </script>\n",
              "</div>\n",
              "    </div>\n",
              "  </div>\n"
            ]
          },
          "metadata": {},
          "execution_count": 36
        }
      ]
    },
    {
      "cell_type": "code",
      "source": [
        "# Calculate the sum of values in each column\n",
        "sum_values = df_assumption_results.sum()\n",
        "\n",
        "# Convert the sum into a DataFrame and transpose it\n",
        "sum_df = sum_values.to_frame().T\n",
        "\n",
        "# Display the sum DataFrame\n",
        "sum_df\n"
      ],
      "metadata": {
        "colab": {
          "base_uri": "https://localhost:8080/",
          "height": 89
        },
        "id": "kRtKSjKcGYTa",
        "outputId": "27b582c2-3c7f-495f-94a7-a5cb918af730"
      },
      "execution_count": 37,
      "outputs": [
        {
          "output_type": "execute_result",
          "data": {
            "text/plain": [
              "   Original_Predicted_Heating_Cost  Assumption_Predicted_Heating_Cost  \\\n",
              "0                      -457.970337                       -1340.939453   \n",
              "\n",
              "   Heating_Cost_Difference_Assumption  \n",
              "0                          882.969055  "
            ],
            "text/html": [
              "\n",
              "  <div id=\"df-07c2086c-a808-4b0c-9a4b-8ed9f749fc49\" class=\"colab-df-container\">\n",
              "    <div>\n",
              "<style scoped>\n",
              "    .dataframe tbody tr th:only-of-type {\n",
              "        vertical-align: middle;\n",
              "    }\n",
              "\n",
              "    .dataframe tbody tr th {\n",
              "        vertical-align: top;\n",
              "    }\n",
              "\n",
              "    .dataframe thead th {\n",
              "        text-align: right;\n",
              "    }\n",
              "</style>\n",
              "<table border=\"1\" class=\"dataframe\">\n",
              "  <thead>\n",
              "    <tr style=\"text-align: right;\">\n",
              "      <th></th>\n",
              "      <th>Original_Predicted_Heating_Cost</th>\n",
              "      <th>Assumption_Predicted_Heating_Cost</th>\n",
              "      <th>Heating_Cost_Difference_Assumption</th>\n",
              "    </tr>\n",
              "  </thead>\n",
              "  <tbody>\n",
              "    <tr>\n",
              "      <th>0</th>\n",
              "      <td>-457.970337</td>\n",
              "      <td>-1340.939453</td>\n",
              "      <td>882.969055</td>\n",
              "    </tr>\n",
              "  </tbody>\n",
              "</table>\n",
              "</div>\n",
              "    <div class=\"colab-df-buttons\">\n",
              "\n",
              "  <div class=\"colab-df-container\">\n",
              "    <button class=\"colab-df-convert\" onclick=\"convertToInteractive('df-07c2086c-a808-4b0c-9a4b-8ed9f749fc49')\"\n",
              "            title=\"Convert this dataframe to an interactive table.\"\n",
              "            style=\"display:none;\">\n",
              "\n",
              "  <svg xmlns=\"http://www.w3.org/2000/svg\" height=\"24px\" viewBox=\"0 -960 960 960\">\n",
              "    <path d=\"M120-120v-720h720v720H120Zm60-500h600v-160H180v160Zm220 220h160v-160H400v160Zm0 220h160v-160H400v160ZM180-400h160v-160H180v160Zm440 0h160v-160H620v160ZM180-180h160v-160H180v160Zm440 0h160v-160H620v160Z\"/>\n",
              "  </svg>\n",
              "    </button>\n",
              "\n",
              "  <style>\n",
              "    .colab-df-container {\n",
              "      display:flex;\n",
              "      gap: 12px;\n",
              "    }\n",
              "\n",
              "    .colab-df-convert {\n",
              "      background-color: #E8F0FE;\n",
              "      border: none;\n",
              "      border-radius: 50%;\n",
              "      cursor: pointer;\n",
              "      display: none;\n",
              "      fill: #1967D2;\n",
              "      height: 32px;\n",
              "      padding: 0 0 0 0;\n",
              "      width: 32px;\n",
              "    }\n",
              "\n",
              "    .colab-df-convert:hover {\n",
              "      background-color: #E2EBFA;\n",
              "      box-shadow: 0px 1px 2px rgba(60, 64, 67, 0.3), 0px 1px 3px 1px rgba(60, 64, 67, 0.15);\n",
              "      fill: #174EA6;\n",
              "    }\n",
              "\n",
              "    .colab-df-buttons div {\n",
              "      margin-bottom: 4px;\n",
              "    }\n",
              "\n",
              "    [theme=dark] .colab-df-convert {\n",
              "      background-color: #3B4455;\n",
              "      fill: #D2E3FC;\n",
              "    }\n",
              "\n",
              "    [theme=dark] .colab-df-convert:hover {\n",
              "      background-color: #434B5C;\n",
              "      box-shadow: 0px 1px 3px 1px rgba(0, 0, 0, 0.15);\n",
              "      filter: drop-shadow(0px 1px 2px rgba(0, 0, 0, 0.3));\n",
              "      fill: #FFFFFF;\n",
              "    }\n",
              "  </style>\n",
              "\n",
              "    <script>\n",
              "      const buttonEl =\n",
              "        document.querySelector('#df-07c2086c-a808-4b0c-9a4b-8ed9f749fc49 button.colab-df-convert');\n",
              "      buttonEl.style.display =\n",
              "        google.colab.kernel.accessAllowed ? 'block' : 'none';\n",
              "\n",
              "      async function convertToInteractive(key) {\n",
              "        const element = document.querySelector('#df-07c2086c-a808-4b0c-9a4b-8ed9f749fc49');\n",
              "        const dataTable =\n",
              "          await google.colab.kernel.invokeFunction('convertToInteractive',\n",
              "                                                    [key], {});\n",
              "        if (!dataTable) return;\n",
              "\n",
              "        const docLinkHtml = 'Like what you see? Visit the ' +\n",
              "          '<a target=\"_blank\" href=https://colab.research.google.com/notebooks/data_table.ipynb>data table notebook</a>'\n",
              "          + ' to learn more about interactive tables.';\n",
              "        element.innerHTML = '';\n",
              "        dataTable['output_type'] = 'display_data';\n",
              "        await google.colab.output.renderOutput(dataTable, element);\n",
              "        const docLink = document.createElement('div');\n",
              "        docLink.innerHTML = docLinkHtml;\n",
              "        element.appendChild(docLink);\n",
              "      }\n",
              "    </script>\n",
              "  </div>\n",
              "\n",
              "\n",
              "<div id=\"df-eea90ed9-b230-4373-91e3-2bf630ccc190\">\n",
              "  <button class=\"colab-df-quickchart\" onclick=\"quickchart('df-eea90ed9-b230-4373-91e3-2bf630ccc190')\"\n",
              "            title=\"Suggest charts.\"\n",
              "            style=\"display:none;\">\n",
              "\n",
              "<svg xmlns=\"http://www.w3.org/2000/svg\" height=\"24px\"viewBox=\"0 0 24 24\"\n",
              "     width=\"24px\">\n",
              "    <g>\n",
              "        <path d=\"M19 3H5c-1.1 0-2 .9-2 2v14c0 1.1.9 2 2 2h14c1.1 0 2-.9 2-2V5c0-1.1-.9-2-2-2zM9 17H7v-7h2v7zm4 0h-2V7h2v10zm4 0h-2v-4h2v4z\"/>\n",
              "    </g>\n",
              "</svg>\n",
              "  </button>\n",
              "\n",
              "<style>\n",
              "  .colab-df-quickchart {\n",
              "    background-color: #E8F0FE;\n",
              "    border: none;\n",
              "    border-radius: 50%;\n",
              "    cursor: pointer;\n",
              "    display: none;\n",
              "    fill: #1967D2;\n",
              "    height: 32px;\n",
              "    padding: 0 0 0 0;\n",
              "    width: 32px;\n",
              "  }\n",
              "\n",
              "  .colab-df-quickchart:hover {\n",
              "    background-color: #E2EBFA;\n",
              "    box-shadow: 0px 1px 2px rgba(60, 64, 67, 0.3), 0px 1px 3px 1px rgba(60, 64, 67, 0.15);\n",
              "    fill: #174EA6;\n",
              "  }\n",
              "\n",
              "  [theme=dark] .colab-df-quickchart {\n",
              "    background-color: #3B4455;\n",
              "    fill: #D2E3FC;\n",
              "  }\n",
              "\n",
              "  [theme=dark] .colab-df-quickchart:hover {\n",
              "    background-color: #434B5C;\n",
              "    box-shadow: 0px 1px 3px 1px rgba(0, 0, 0, 0.15);\n",
              "    filter: drop-shadow(0px 1px 2px rgba(0, 0, 0, 0.3));\n",
              "    fill: #FFFFFF;\n",
              "  }\n",
              "</style>\n",
              "\n",
              "  <script>\n",
              "    async function quickchart(key) {\n",
              "      const charts = await google.colab.kernel.invokeFunction(\n",
              "          'suggestCharts', [key], {});\n",
              "    }\n",
              "    (() => {\n",
              "      let quickchartButtonEl =\n",
              "        document.querySelector('#df-eea90ed9-b230-4373-91e3-2bf630ccc190 button');\n",
              "      quickchartButtonEl.style.display =\n",
              "        google.colab.kernel.accessAllowed ? 'block' : 'none';\n",
              "    })();\n",
              "  </script>\n",
              "</div>\n",
              "    </div>\n",
              "  </div>\n"
            ]
          },
          "metadata": {},
          "execution_count": 37
        }
      ]
    },
    {
      "cell_type": "markdown",
      "source": [
        "the assumption leads to an increase in cost"
      ],
      "metadata": {
        "id": "0kxvrIBjGpbM"
      }
    },
    {
      "cell_type": "markdown",
      "source": [
        "# END"
      ],
      "metadata": {
        "id": "7rwxobccizii"
      }
    }
  ]
}